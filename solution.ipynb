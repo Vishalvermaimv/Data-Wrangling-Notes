{
 "cells": [
  {
   "cell_type": "code",
   "execution_count": 2,
   "metadata": {},
   "outputs": [],
   "source": [
    "# importing important libraries\n",
    "import pandas as pd \n",
    "import numpy as np\n",
    "import seaborn as sns\n",
    "import matplotlib.pyplot as plt"
   ]
  },
  {
   "cell_type": "code",
   "execution_count": 3,
   "metadata": {},
   "outputs": [],
   "source": [
    "# 1 importing dataset\n",
    "# df = pd.read_csv(\"https://raw.githubusercontent.com/SR1608/Datasets/main/covid-data.csv\")\n",
    "# df.to_csv(\"C://Users//BIKASH//Desktop/Data.csv\",index=False)"
   ]
  },
  {
   "cell_type": "code",
   "execution_count": 4,
   "metadata": {},
   "outputs": [
    {
     "data": {
      "text/html": [
       "<div>\n",
       "<style scoped>\n",
       "    .dataframe tbody tr th:only-of-type {\n",
       "        vertical-align: middle;\n",
       "    }\n",
       "\n",
       "    .dataframe tbody tr th {\n",
       "        vertical-align: top;\n",
       "    }\n",
       "\n",
       "    .dataframe thead th {\n",
       "        text-align: right;\n",
       "    }\n",
       "</style>\n",
       "<table border=\"1\" class=\"dataframe\">\n",
       "  <thead>\n",
       "    <tr style=\"text-align: right;\">\n",
       "      <th></th>\n",
       "      <th>iso_code</th>\n",
       "      <th>continent</th>\n",
       "      <th>location</th>\n",
       "      <th>date</th>\n",
       "      <th>total_cases</th>\n",
       "      <th>new_cases</th>\n",
       "      <th>new_cases_smoothed</th>\n",
       "      <th>total_deaths</th>\n",
       "      <th>new_deaths</th>\n",
       "      <th>new_deaths_smoothed</th>\n",
       "      <th>...</th>\n",
       "      <th>gdp_per_capita</th>\n",
       "      <th>extreme_poverty</th>\n",
       "      <th>cardiovasc_death_rate</th>\n",
       "      <th>diabetes_prevalence</th>\n",
       "      <th>female_smokers</th>\n",
       "      <th>male_smokers</th>\n",
       "      <th>handwashing_facilities</th>\n",
       "      <th>hospital_beds_per_thousand</th>\n",
       "      <th>life_expectancy</th>\n",
       "      <th>human_development_index</th>\n",
       "    </tr>\n",
       "  </thead>\n",
       "  <tbody>\n",
       "    <tr>\n",
       "      <th>0</th>\n",
       "      <td>AFG</td>\n",
       "      <td>Asia</td>\n",
       "      <td>Afghanistan</td>\n",
       "      <td>31/12/19</td>\n",
       "      <td>NaN</td>\n",
       "      <td>0.0</td>\n",
       "      <td>NaN</td>\n",
       "      <td>NaN</td>\n",
       "      <td>0.0</td>\n",
       "      <td>NaN</td>\n",
       "      <td>...</td>\n",
       "      <td>1803.987</td>\n",
       "      <td>NaN</td>\n",
       "      <td>597.029</td>\n",
       "      <td>9.59</td>\n",
       "      <td>NaN</td>\n",
       "      <td>NaN</td>\n",
       "      <td>37.746</td>\n",
       "      <td>0.5</td>\n",
       "      <td>64.83</td>\n",
       "      <td>0.498</td>\n",
       "    </tr>\n",
       "    <tr>\n",
       "      <th>1</th>\n",
       "      <td>AFG</td>\n",
       "      <td>Asia</td>\n",
       "      <td>Afghanistan</td>\n",
       "      <td>01/01/20</td>\n",
       "      <td>NaN</td>\n",
       "      <td>0.0</td>\n",
       "      <td>NaN</td>\n",
       "      <td>NaN</td>\n",
       "      <td>0.0</td>\n",
       "      <td>NaN</td>\n",
       "      <td>...</td>\n",
       "      <td>1803.987</td>\n",
       "      <td>NaN</td>\n",
       "      <td>597.029</td>\n",
       "      <td>9.59</td>\n",
       "      <td>NaN</td>\n",
       "      <td>NaN</td>\n",
       "      <td>37.746</td>\n",
       "      <td>0.5</td>\n",
       "      <td>64.83</td>\n",
       "      <td>0.498</td>\n",
       "    </tr>\n",
       "    <tr>\n",
       "      <th>2</th>\n",
       "      <td>AFG</td>\n",
       "      <td>Asia</td>\n",
       "      <td>Afghanistan</td>\n",
       "      <td>02/01/20</td>\n",
       "      <td>NaN</td>\n",
       "      <td>0.0</td>\n",
       "      <td>NaN</td>\n",
       "      <td>NaN</td>\n",
       "      <td>0.0</td>\n",
       "      <td>NaN</td>\n",
       "      <td>...</td>\n",
       "      <td>1803.987</td>\n",
       "      <td>NaN</td>\n",
       "      <td>597.029</td>\n",
       "      <td>9.59</td>\n",
       "      <td>NaN</td>\n",
       "      <td>NaN</td>\n",
       "      <td>37.746</td>\n",
       "      <td>0.5</td>\n",
       "      <td>64.83</td>\n",
       "      <td>0.498</td>\n",
       "    </tr>\n",
       "    <tr>\n",
       "      <th>3</th>\n",
       "      <td>AFG</td>\n",
       "      <td>Asia</td>\n",
       "      <td>Afghanistan</td>\n",
       "      <td>03/01/20</td>\n",
       "      <td>NaN</td>\n",
       "      <td>0.0</td>\n",
       "      <td>NaN</td>\n",
       "      <td>NaN</td>\n",
       "      <td>0.0</td>\n",
       "      <td>NaN</td>\n",
       "      <td>...</td>\n",
       "      <td>1803.987</td>\n",
       "      <td>NaN</td>\n",
       "      <td>597.029</td>\n",
       "      <td>9.59</td>\n",
       "      <td>NaN</td>\n",
       "      <td>NaN</td>\n",
       "      <td>37.746</td>\n",
       "      <td>0.5</td>\n",
       "      <td>64.83</td>\n",
       "      <td>0.498</td>\n",
       "    </tr>\n",
       "    <tr>\n",
       "      <th>4</th>\n",
       "      <td>AFG</td>\n",
       "      <td>Asia</td>\n",
       "      <td>Afghanistan</td>\n",
       "      <td>04/01/20</td>\n",
       "      <td>NaN</td>\n",
       "      <td>0.0</td>\n",
       "      <td>NaN</td>\n",
       "      <td>NaN</td>\n",
       "      <td>0.0</td>\n",
       "      <td>NaN</td>\n",
       "      <td>...</td>\n",
       "      <td>1803.987</td>\n",
       "      <td>NaN</td>\n",
       "      <td>597.029</td>\n",
       "      <td>9.59</td>\n",
       "      <td>NaN</td>\n",
       "      <td>NaN</td>\n",
       "      <td>37.746</td>\n",
       "      <td>0.5</td>\n",
       "      <td>64.83</td>\n",
       "      <td>0.498</td>\n",
       "    </tr>\n",
       "  </tbody>\n",
       "</table>\n",
       "<p>5 rows × 49 columns</p>\n",
       "</div>"
      ],
      "text/plain": [
       "  iso_code continent     location      date  total_cases  new_cases  \\\n",
       "0      AFG      Asia  Afghanistan  31/12/19          NaN        0.0   \n",
       "1      AFG      Asia  Afghanistan  01/01/20          NaN        0.0   \n",
       "2      AFG      Asia  Afghanistan  02/01/20          NaN        0.0   \n",
       "3      AFG      Asia  Afghanistan  03/01/20          NaN        0.0   \n",
       "4      AFG      Asia  Afghanistan  04/01/20          NaN        0.0   \n",
       "\n",
       "   new_cases_smoothed  total_deaths  new_deaths  new_deaths_smoothed  ...  \\\n",
       "0                 NaN           NaN         0.0                  NaN  ...   \n",
       "1                 NaN           NaN         0.0                  NaN  ...   \n",
       "2                 NaN           NaN         0.0                  NaN  ...   \n",
       "3                 NaN           NaN         0.0                  NaN  ...   \n",
       "4                 NaN           NaN         0.0                  NaN  ...   \n",
       "\n",
       "   gdp_per_capita  extreme_poverty  cardiovasc_death_rate  \\\n",
       "0        1803.987              NaN                597.029   \n",
       "1        1803.987              NaN                597.029   \n",
       "2        1803.987              NaN                597.029   \n",
       "3        1803.987              NaN                597.029   \n",
       "4        1803.987              NaN                597.029   \n",
       "\n",
       "   diabetes_prevalence  female_smokers  male_smokers  handwashing_facilities  \\\n",
       "0                 9.59             NaN           NaN                  37.746   \n",
       "1                 9.59             NaN           NaN                  37.746   \n",
       "2                 9.59             NaN           NaN                  37.746   \n",
       "3                 9.59             NaN           NaN                  37.746   \n",
       "4                 9.59             NaN           NaN                  37.746   \n",
       "\n",
       "   hospital_beds_per_thousand  life_expectancy  human_development_index  \n",
       "0                         0.5            64.83                    0.498  \n",
       "1                         0.5            64.83                    0.498  \n",
       "2                         0.5            64.83                    0.498  \n",
       "3                         0.5            64.83                    0.498  \n",
       "4                         0.5            64.83                    0.498  \n",
       "\n",
       "[5 rows x 49 columns]"
      ]
     },
     "execution_count": 4,
     "metadata": {},
     "output_type": "execute_result"
    }
   ],
   "source": [
    "df = pd.read_csv(\"C://Users//BIKASH//Desktop/Data.csv\")\n",
    "df = pd.DataFrame(df)\n",
    "df_1 = df.copy()\n",
    "df_1.head()"
   ]
  },
  {
   "attachments": {},
   "cell_type": "markdown",
   "metadata": {},
   "source": [
    "2. High Level Data Understanding:\n",
    "a. Find no. of rows & columns in the dataset\n",
    "b. Data types of columns.\n",
    "c. Info & describe of data in dataframe."
   ]
  },
  {
   "cell_type": "code",
   "execution_count": 5,
   "metadata": {},
   "outputs": [
    {
     "name": "stdout",
     "output_type": "stream",
     "text": [
      "No. of rows in dataset : 57394\n",
      "\n",
      "No. of columns in dataset : 49\n"
     ]
    }
   ],
   "source": [
    "# a. Find no. of rows & columns in the dataset\n",
    "print(f'No. of rows in dataset : {df_1.shape[0]}') # no. of rows\n",
    "print(f'\\nNo. of columns in dataset : {df_1.shape[1]}') # no. of columns"
   ]
  },
  {
   "cell_type": "code",
   "execution_count": 6,
   "metadata": {},
   "outputs": [
    {
     "name": "stdout",
     "output_type": "stream",
     "text": [
      "Datatype of columns\n",
      "iso_code                               object\n",
      "continent                              object\n",
      "location                               object\n",
      "date                                   object\n",
      "total_cases                           float64\n",
      "new_cases                             float64\n",
      "new_cases_smoothed                    float64\n",
      "total_deaths                          float64\n",
      "new_deaths                            float64\n",
      "new_deaths_smoothed                   float64\n",
      "total_cases_per_million               float64\n",
      "new_cases_per_million                 float64\n",
      "new_cases_smoothed_per_million        float64\n",
      "total_deaths_per_million              float64\n",
      "new_deaths_per_million                float64\n",
      "new_deaths_smoothed_per_million       float64\n",
      "reproduction_rate                     float64\n",
      "icu_patients                          float64\n",
      "icu_patients_per_million              float64\n",
      "hosp_patients                         float64\n",
      "hosp_patients_per_million             float64\n",
      "weekly_icu_admissions                 float64\n",
      "weekly_icu_admissions_per_million     float64\n",
      "weekly_hosp_admissions                float64\n",
      "weekly_hosp_admissions_per_million    float64\n",
      "total_tests                           float64\n",
      "new_tests                             float64\n",
      "total_tests_per_thousand              float64\n",
      "new_tests_per_thousand                float64\n",
      "new_tests_smoothed                    float64\n",
      "new_tests_smoothed_per_thousand       float64\n",
      "tests_per_case                        float64\n",
      "positive_rate                         float64\n",
      "stringency_index                      float64\n",
      "population                            float64\n",
      "population_density                    float64\n",
      "median_age                            float64\n",
      "aged_65_older                         float64\n",
      "aged_70_older                         float64\n",
      "gdp_per_capita                        float64\n",
      "extreme_poverty                       float64\n",
      "cardiovasc_death_rate                 float64\n",
      "diabetes_prevalence                   float64\n",
      "female_smokers                        float64\n",
      "male_smokers                          float64\n",
      "handwashing_facilities                float64\n",
      "hospital_beds_per_thousand            float64\n",
      "life_expectancy                       float64\n",
      "human_development_index               float64\n",
      "dtype: object\n"
     ]
    }
   ],
   "source": [
    "# b. Data types of columns.\n",
    "print(f'Datatype of columns\\n{df_1.dtypes}')"
   ]
  },
  {
   "cell_type": "code",
   "execution_count": 7,
   "metadata": {},
   "outputs": [
    {
     "name": "stdout",
     "output_type": "stream",
     "text": [
      "iso_code = object\n",
      "\n",
      "continent = object\n",
      "\n",
      "location = object\n",
      "\n",
      "date = object\n",
      "\n",
      "total_cases = float64\n",
      "\n",
      "new_cases = float64\n",
      "\n",
      "new_cases_smoothed = float64\n",
      "\n",
      "total_deaths = float64\n",
      "\n",
      "new_deaths = float64\n",
      "\n",
      "new_deaths_smoothed = float64\n",
      "\n",
      "total_cases_per_million = float64\n",
      "\n",
      "new_cases_per_million = float64\n",
      "\n",
      "new_cases_smoothed_per_million = float64\n",
      "\n",
      "total_deaths_per_million = float64\n",
      "\n",
      "new_deaths_per_million = float64\n",
      "\n",
      "new_deaths_smoothed_per_million = float64\n",
      "\n",
      "reproduction_rate = float64\n",
      "\n",
      "icu_patients = float64\n",
      "\n",
      "icu_patients_per_million = float64\n",
      "\n",
      "hosp_patients = float64\n",
      "\n",
      "hosp_patients_per_million = float64\n",
      "\n",
      "weekly_icu_admissions = float64\n",
      "\n",
      "weekly_icu_admissions_per_million = float64\n",
      "\n",
      "weekly_hosp_admissions = float64\n",
      "\n",
      "weekly_hosp_admissions_per_million = float64\n",
      "\n",
      "total_tests = float64\n",
      "\n",
      "new_tests = float64\n",
      "\n",
      "total_tests_per_thousand = float64\n",
      "\n",
      "new_tests_per_thousand = float64\n",
      "\n",
      "new_tests_smoothed = float64\n",
      "\n",
      "new_tests_smoothed_per_thousand = float64\n",
      "\n",
      "tests_per_case = float64\n",
      "\n",
      "positive_rate = float64\n",
      "\n",
      "stringency_index = float64\n",
      "\n",
      "population = float64\n",
      "\n",
      "population_density = float64\n",
      "\n",
      "median_age = float64\n",
      "\n",
      "aged_65_older = float64\n",
      "\n",
      "aged_70_older = float64\n",
      "\n",
      "gdp_per_capita = float64\n",
      "\n",
      "extreme_poverty = float64\n",
      "\n",
      "cardiovasc_death_rate = float64\n",
      "\n",
      "diabetes_prevalence = float64\n",
      "\n",
      "female_smokers = float64\n",
      "\n",
      "male_smokers = float64\n",
      "\n",
      "handwashing_facilities = float64\n",
      "\n",
      "hospital_beds_per_thousand = float64\n",
      "\n",
      "life_expectancy = float64\n",
      "\n",
      "human_development_index = float64\n",
      "\n"
     ]
    }
   ],
   "source": [
    "# solution2\n",
    "for i in df_1.columns:\n",
    "    print (f\"{i} = {np.dtype(df_1[i])}\\n\")"
   ]
  },
  {
   "cell_type": "code",
   "execution_count": 8,
   "metadata": {},
   "outputs": [
    {
     "name": "stdout",
     "output_type": "stream",
     "text": [
      "<class 'pandas.core.frame.DataFrame'>\n",
      "RangeIndex: 57394 entries, 0 to 57393\n",
      "Data columns (total 49 columns):\n",
      " #   Column                              Non-Null Count  Dtype  \n",
      "---  ------                              --------------  -----  \n",
      " 0   iso_code                            57071 non-null  object \n",
      " 1   continent                           56748 non-null  object \n",
      " 2   location                            57394 non-null  object \n",
      " 3   date                                57394 non-null  object \n",
      " 4   total_cases                         53758 non-null  float64\n",
      " 5   new_cases                           56465 non-null  float64\n",
      " 6   new_cases_smoothed                  55652 non-null  float64\n",
      " 7   total_deaths                        44368 non-null  float64\n",
      " 8   new_deaths                          56465 non-null  float64\n",
      " 9   new_deaths_smoothed                 55652 non-null  float64\n",
      " 10  total_cases_per_million             53471 non-null  float64\n",
      " 11  new_cases_per_million               56401 non-null  float64\n",
      " 12  new_cases_smoothed_per_million      55587 non-null  float64\n",
      " 13  total_deaths_per_million            44096 non-null  float64\n",
      " 14  new_deaths_per_million              56401 non-null  float64\n",
      " 15  new_deaths_smoothed_per_million     55587 non-null  float64\n",
      " 16  reproduction_rate                   37696 non-null  float64\n",
      " 17  icu_patients                        4490 non-null   float64\n",
      " 18  icu_patients_per_million            4490 non-null   float64\n",
      " 19  hosp_patients                       5005 non-null   float64\n",
      " 20  hosp_patients_per_million           5005 non-null   float64\n",
      " 21  weekly_icu_admissions               357 non-null    float64\n",
      " 22  weekly_icu_admissions_per_million   357 non-null    float64\n",
      " 23  weekly_hosp_admissions              645 non-null    float64\n",
      " 24  weekly_hosp_admissions_per_million  645 non-null    float64\n",
      " 25  total_tests                         22017 non-null  float64\n",
      " 26  new_tests                           21787 non-null  float64\n",
      " 27  total_tests_per_thousand            22017 non-null  float64\n",
      " 28  new_tests_per_thousand              21787 non-null  float64\n",
      " 29  new_tests_smoothed                  24612 non-null  float64\n",
      " 30  new_tests_smoothed_per_thousand     24612 non-null  float64\n",
      " 31  tests_per_case                      22802 non-null  float64\n",
      " 32  positive_rate                       23211 non-null  float64\n",
      " 33  stringency_index                    47847 non-null  float64\n",
      " 34  population                          57071 non-null  float64\n",
      " 35  population_density                  54371 non-null  float64\n",
      " 36  median_age                          51034 non-null  float64\n",
      " 37  aged_65_older                       50265 non-null  float64\n",
      " 38  aged_70_older                       50768 non-null  float64\n",
      " 39  gdp_per_capita                      50367 non-null  float64\n",
      " 40  extreme_poverty                     33571 non-null  float64\n",
      " 41  cardiovasc_death_rate               51013 non-null  float64\n",
      " 42  diabetes_prevalence                 52881 non-null  float64\n",
      " 43  female_smokers                      39669 non-null  float64\n",
      " 44  male_smokers                        39156 non-null  float64\n",
      " 45  handwashing_facilities              24176 non-null  float64\n",
      " 46  hospital_beds_per_thousand          45936 non-null  float64\n",
      " 47  life_expectancy                     56336 non-null  float64\n",
      " 48  human_development_index             49247 non-null  float64\n",
      "dtypes: float64(45), object(4)\n",
      "memory usage: 21.5+ MB\n",
      "Info of the DatasetNone\n",
      "\n",
      "Description of the Dataset\n",
      "       iso_code continent     location      date   total_cases      new_cases  \\\n",
      "count     57071     56748        57394     57394  5.375800e+04   56465.000000   \n",
      "unique      215         6          216       323           NaN            NaN   \n",
      "top         AFG    Europe  Afghanistan  30/10/20           NaN            NaN   \n",
      "freq        323     14828          323       215           NaN            NaN   \n",
      "mean        NaN       NaN          NaN       NaN  1.677974e+05    1953.576941   \n",
      "std         NaN       NaN          NaN       NaN  1.693038e+06   18269.650340   \n",
      "min         NaN       NaN          NaN       NaN  1.000000e+00   -8261.000000   \n",
      "25%         NaN       NaN          NaN       NaN  1.800000e+02       0.000000   \n",
      "50%         NaN       NaN          NaN       NaN  2.070000e+03      14.000000   \n",
      "75%         NaN       NaN          NaN       NaN  2.235675e+04     235.000000   \n",
      "max         NaN       NaN          NaN       NaN  5.515465e+07  646281.000000   \n",
      "\n",
      "        new_cases_smoothed  total_deaths    new_deaths  new_deaths_smoothed  \\\n",
      "count         55652.000000  4.436800e+04  56465.000000         55652.000000   \n",
      "unique                 NaN           NaN           NaN                  NaN   \n",
      "top                    NaN           NaN           NaN                  NaN   \n",
      "freq                   NaN           NaN           NaN                  NaN   \n",
      "mean           1920.431953  6.858639e+03     47.054317            46.835439   \n",
      "std           17777.391785  5.578081e+04    390.853776           378.272794   \n",
      "min            -552.000000  1.000000e+00  -1918.000000          -232.143000   \n",
      "25%               0.857000  1.300000e+01      0.000000             0.000000   \n",
      "50%              19.429000  8.400000e+01      0.000000             0.286000   \n",
      "75%             245.286000  7.270000e+02      4.000000             4.000000   \n",
      "max          584981.857000  1.328537e+06  10600.000000          9027.714000   \n",
      "\n",
      "        ...  gdp_per_capita  extreme_poverty  cardiovasc_death_rate  \\\n",
      "count   ...    50367.000000     33571.000000           51013.000000   \n",
      "unique  ...             NaN              NaN                    NaN   \n",
      "top     ...             NaN              NaN                    NaN   \n",
      "freq    ...             NaN              NaN                    NaN   \n",
      "mean    ...    20620.172071        12.435453             252.646642   \n",
      "std     ...    20310.999832        19.427924             117.522344   \n",
      "min     ...      661.240000         0.100000              79.370000   \n",
      "25%     ...     5321.444000         0.500000             156.139000   \n",
      "50%     ...    13913.839000         2.000000             238.339000   \n",
      "75%     ...    31400.840000        18.100000             318.991000   \n",
      "max     ...   116935.600000        77.600000             724.417000   \n",
      "\n",
      "        diabetes_prevalence  female_smokers  male_smokers  \\\n",
      "count          52881.000000    39669.000000  39156.000000   \n",
      "unique                  NaN             NaN           NaN   \n",
      "top                     NaN             NaN           NaN   \n",
      "freq                    NaN             NaN           NaN   \n",
      "mean               8.070269       10.741569     32.642686   \n",
      "std                4.189605       10.470743     13.453566   \n",
      "min                0.990000        0.100000      7.700000   \n",
      "25%                5.310000        1.900000     21.400000   \n",
      "50%                7.110000        6.400000     31.400000   \n",
      "75%               10.390000       19.600000     40.900000   \n",
      "max               30.530000       44.000000     78.100000   \n",
      "\n",
      "        handwashing_facilities  hospital_beds_per_thousand  life_expectancy  \\\n",
      "count             24176.000000                45936.000000     56336.000000   \n",
      "unique                     NaN                         NaN              NaN   \n",
      "top                        NaN                         NaN              NaN   \n",
      "freq                       NaN                         NaN              NaN   \n",
      "mean                 52.089636                    3.089724        73.937780   \n",
      "std                  31.645306                    2.513193         7.397016   \n",
      "min                   1.188000                    0.100000        53.280000   \n",
      "25%                  21.222000                    1.300000        69.870000   \n",
      "50%                  52.232000                    2.500000        75.345000   \n",
      "75%                  83.741000                    4.200000        79.380000   \n",
      "max                  98.999000                   13.800000        86.750000   \n",
      "\n",
      "        human_development_index  \n",
      "count              49247.000000  \n",
      "unique                      NaN  \n",
      "top                         NaN  \n",
      "freq                        NaN  \n",
      "mean                   0.722223  \n",
      "std                    0.153261  \n",
      "min                    0.354000  \n",
      "25%                    0.601000  \n",
      "50%                    0.752000  \n",
      "75%                    0.847000  \n",
      "max                    0.953000  \n",
      "\n",
      "[11 rows x 49 columns]\n"
     ]
    }
   ],
   "source": [
    "# c. Info & describe of data in dataframe.\n",
    "print(f'Info of the Dataset{df_1.info()}')\n",
    "print(f'\\nDescription of the Dataset\\n{df_1.describe(include=\"all\")}')"
   ]
  },
  {
   "attachments": {},
   "cell_type": "markdown",
   "metadata": {},
   "source": [
    "3. Low Level Data Understanding :\n",
    "a. Find count of unique values in location column.\n",
    "b. Find which continent has maximum frequency using values\n",
    "counts.\n",
    "c. Find maximum & mean value in 'total_cases'.\n",
    "d. Find 25%,50% & 75% quartile value in 'total_deaths'.\n",
    "e. Find which continent has maximum\n",
    "'human_development_index'.\n",
    "f. Find which continent has minimum 'gdp_per_capita'"
   ]
  },
  {
   "cell_type": "code",
   "execution_count": 9,
   "metadata": {},
   "outputs": [
    {
     "name": "stdout",
     "output_type": "stream",
     "text": [
      "count of uniquie values in location column is 216\n"
     ]
    }
   ],
   "source": [
    "# a. Find count of unique values in location column.\n",
    "print(f\"count of uniquie values in location column is {len(df_1['location'].value_counts())}\")"
   ]
  },
  {
   "cell_type": "code",
   "execution_count": 10,
   "metadata": {},
   "outputs": [
    {
     "name": "stdout",
     "output_type": "stream",
     "text": [
      "\n",
      "continent having maximum frequency is Europe\n"
     ]
    }
   ],
   "source": [
    "# b. Find which continent has maximum frequency using values counts.\n",
    "print(f\"\\ncontinent having maximum frequency is {df_1['continent'].value_counts().idxmax()}\")"
   ]
  },
  {
   "cell_type": "code",
   "execution_count": 11,
   "metadata": {},
   "outputs": [
    {
     "name": "stdout",
     "output_type": "stream",
     "text": [
      "the maximum value in total cases is 55154651.0\n",
      "\n",
      "the mean value in total_cases is 167797.37\n"
     ]
    }
   ],
   "source": [
    "# c. Find maximum & mean value in 'total_cases'.\n",
    "print('the maximum value in total cases is',df_1['total_cases'].max())\n",
    "print('\\nthe mean value in total_cases is',round(df_1['total_cases'].mean(),2))"
   ]
  },
  {
   "cell_type": "code",
   "execution_count": 12,
   "metadata": {},
   "outputs": [
    {
     "name": "stdout",
     "output_type": "stream",
     "text": [
      "0.25     13.0\n",
      "0.50     84.0\n",
      "0.75    727.0\n",
      "Name: total_deaths, dtype: float64\n"
     ]
    }
   ],
   "source": [
    "# d. Find 25%,50% & 75% quartile value in 'total_deaths'.\n",
    "print(df_1['total_deaths'].quantile([0.25,0.5,0.75]))"
   ]
  },
  {
   "cell_type": "code",
   "execution_count": 13,
   "metadata": {},
   "outputs": [
    {
     "name": "stdout",
     "output_type": "stream",
     "text": [
      "25% of total_death_values : 13.0\n",
      "50% of total_death_values : 84.0\n",
      "75% of total_death_values : 727.0\n"
     ]
    }
   ],
   "source": [
    "# Solution2\n",
    "print(f\"25% of total_death_values : {df_1['total_deaths'].quantile(q=.25)}\")\n",
    "print(f\"50% of total_death_values : {df_1['total_deaths'].quantile(q=.5)}\")\n",
    "print(f\"75% of total_death_values : {df_1['total_deaths'].quantile(q=.75)}\")"
   ]
  },
  {
   "cell_type": "code",
   "execution_count": 14,
   "metadata": {},
   "outputs": [
    {
     "name": "stdout",
     "output_type": "stream",
     "text": [
      "Europe\n"
     ]
    }
   ],
   "source": [
    "# e.Find which continent has maximum'human_development_index'.\n",
    "print(df_1.groupby('continent')['human_development_index'].max().idxmax())"
   ]
  },
  {
   "cell_type": "code",
   "execution_count": 15,
   "metadata": {},
   "outputs": [
    {
     "name": "stdout",
     "output_type": "stream",
     "text": [
      "continent\n",
      "Europe    0.953\n",
      "Name: human_development_index, dtype: float64\n"
     ]
    }
   ],
   "source": [
    "# solution2\n",
    "print(df_1.groupby('continent')['human_development_index'].max().sort_values().tail(1))"
   ]
  },
  {
   "cell_type": "code",
   "execution_count": 16,
   "metadata": {},
   "outputs": [
    {
     "name": "stdout",
     "output_type": "stream",
     "text": [
      "continent\n",
      "Europe    0.953\n",
      "Name: human_development_index, dtype: float64\n"
     ]
    }
   ],
   "source": [
    "# solution3\n",
    "print(df_1.groupby('continent')['human_development_index'].max().sort_values(ascending=False).head(1))"
   ]
  },
  {
   "cell_type": "code",
   "execution_count": 17,
   "metadata": {},
   "outputs": [
    {
     "name": "stdout",
     "output_type": "stream",
     "text": [
      "Africa\n"
     ]
    }
   ],
   "source": [
    "# f. Find which continent has minimum 'gdp_per_capita'\n",
    "print(df_1.groupby('continent')['gdp_per_capita'].min().idxmin())"
   ]
  },
  {
   "cell_type": "code",
   "execution_count": 18,
   "metadata": {},
   "outputs": [
    {
     "name": "stdout",
     "output_type": "stream",
     "text": [
      "continent\n",
      "Africa    661.24\n",
      "Name: gdp_per_capita, dtype: float64\n"
     ]
    }
   ],
   "source": [
    "# solution2\n",
    "print(df_1.groupby('continent')['gdp_per_capita'].min().sort_values().head(1))"
   ]
  },
  {
   "cell_type": "code",
   "execution_count": 19,
   "metadata": {},
   "outputs": [
    {
     "name": "stdout",
     "output_type": "stream",
     "text": [
      "continent\n",
      "Africa    661.24\n",
      "Name: gdp_per_capita, dtype: float64\n"
     ]
    }
   ],
   "source": [
    "# solution3\n",
    "print(df_1.groupby('continent')['gdp_per_capita'].min().sort_values(ascending=False).tail(1))"
   ]
  },
  {
   "attachments": {},
   "cell_type": "markdown",
   "metadata": {},
   "source": [
    "4. Filter the dataframe with only this columns\n",
    "['continent','location','date','total_cases','total_deaths''gdp_per_capita','human_development_index'] \n",
    "and update the data frame."
   ]
  },
  {
   "cell_type": "code",
   "execution_count": 20,
   "metadata": {},
   "outputs": [],
   "source": [
    "# checking total_cases by date\n"
   ]
  },
  {
   "cell_type": "code",
   "execution_count": 21,
   "metadata": {},
   "outputs": [],
   "source": [
    "# \n"
   ]
  },
  {
   "cell_type": "code",
   "execution_count": null,
   "metadata": {},
   "outputs": [],
   "source": []
  },
  {
   "cell_type": "code",
   "execution_count": null,
   "metadata": {},
   "outputs": [],
   "source": []
  },
  {
   "cell_type": "code",
   "execution_count": null,
   "metadata": {},
   "outputs": [],
   "source": []
  },
  {
   "attachments": {},
   "cell_type": "markdown",
   "metadata": {},
   "source": [
    "5. Data Cleaning\n",
    "a. Remove all duplicates observations\n",
    "b. Find missing values in all columns\n",
    "c. Remove all observations where continent column value is\n",
    "missing\n",
    "Tip : using subset parameter in dropna\n",
    "d. Fill all missing values with 0"
   ]
  },
  {
   "cell_type": "code",
   "execution_count": 22,
   "metadata": {},
   "outputs": [
    {
     "name": "stdout",
     "output_type": "stream",
     "text": [
      "       iso_code      continent     location      date  total_cases  new_cases  \\\n",
      "0           AFG           Asia  Afghanistan  31/12/19          NaN        0.0   \n",
      "323         ALB         Europe      Albania  09/03/20          2.0        2.0   \n",
      "577         DZA         Africa      Algeria  31/12/19          NaN        0.0   \n",
      "1396        AIA  North America     Anguilla  27/03/20          2.0        2.0   \n",
      "1875        ARG  South America    Argentina  04/03/20          1.0        1.0   \n",
      "2701        AUS        Oceania    Australia  31/12/19          NaN        0.0   \n",
      "56748  OWID_WRL            NaN        World  31/12/19         27.0       27.0   \n",
      "\n",
      "       new_cases_smoothed  total_deaths  new_deaths  new_deaths_smoothed  ...  \\\n",
      "0                     NaN           NaN         0.0                  NaN  ...   \n",
      "323                   NaN           NaN         0.0                  NaN  ...   \n",
      "577                   NaN           NaN         0.0                  NaN  ...   \n",
      "1396                  NaN           NaN         0.0                  NaN  ...   \n",
      "1875                  NaN           NaN         0.0                  NaN  ...   \n",
      "2701                  NaN           NaN         0.0                  NaN  ...   \n",
      "56748                 NaN           NaN         0.0                  NaN  ...   \n",
      "\n",
      "       gdp_per_capita  extreme_poverty  cardiovasc_death_rate  \\\n",
      "0            1803.987              NaN                597.029   \n",
      "323         11803.431              1.1                304.195   \n",
      "577         13913.839              0.5                278.364   \n",
      "1396              NaN              NaN                    NaN   \n",
      "1875        18933.907              0.6                191.032   \n",
      "2701        44648.710              0.5                107.791   \n",
      "56748       15469.207             10.0                233.070   \n",
      "\n",
      "       diabetes_prevalence  female_smokers  male_smokers  \\\n",
      "0                     9.59             NaN           NaN   \n",
      "323                  10.08           7.100        51.200   \n",
      "577                   6.73           0.700        30.400   \n",
      "1396                   NaN             NaN           NaN   \n",
      "1875                  5.50          16.200        27.700   \n",
      "2701                  5.07          13.000        16.500   \n",
      "56748                 8.51           6.434        34.635   \n",
      "\n",
      "       handwashing_facilities  hospital_beds_per_thousand  life_expectancy  \\\n",
      "0                      37.746                       0.500            64.83   \n",
      "323                       NaN                       2.890            78.57   \n",
      "577                    83.741                       1.900            76.88   \n",
      "1396                      NaN                         NaN            81.88   \n",
      "1875                      NaN                       5.000            76.67   \n",
      "2701                      NaN                       3.840            83.44   \n",
      "56748                  60.130                       2.705            72.58   \n",
      "\n",
      "       human_development_index  \n",
      "0                        0.498  \n",
      "323                      0.785  \n",
      "577                      0.754  \n",
      "1396                       NaN  \n",
      "1875                     0.825  \n",
      "2701                     0.939  \n",
      "56748                      NaN  \n",
      "\n",
      "[7 rows x 49 columns]\n"
     ]
    }
   ],
   "source": [
    "# a. Remove all duplicates observations\n",
    "df_1=df_1.drop_duplicates(subset=['continent'])\n",
    "print(df_1)"
   ]
  },
  {
   "cell_type": "code",
   "execution_count": 23,
   "metadata": {},
   "outputs": [
    {
     "name": "stdout",
     "output_type": "stream",
     "text": [
      "missing values in all columns\n",
      "iso_code                              0\n",
      "continent                             1\n",
      "location                              0\n",
      "date                                  0\n",
      "total_cases                           3\n",
      "new_cases                             0\n",
      "new_cases_smoothed                    7\n",
      "total_deaths                          7\n",
      "new_deaths                            0\n",
      "new_deaths_smoothed                   7\n",
      "total_cases_per_million               3\n",
      "new_cases_per_million                 0\n",
      "new_cases_smoothed_per_million        7\n",
      "total_deaths_per_million              7\n",
      "new_deaths_per_million                0\n",
      "new_deaths_smoothed_per_million       7\n",
      "reproduction_rate                     7\n",
      "icu_patients                          7\n",
      "icu_patients_per_million              7\n",
      "hosp_patients                         7\n",
      "hosp_patients_per_million             7\n",
      "weekly_icu_admissions                 7\n",
      "weekly_icu_admissions_per_million     7\n",
      "weekly_hosp_admissions                7\n",
      "weekly_hosp_admissions_per_million    7\n",
      "total_tests                           7\n",
      "new_tests                             7\n",
      "total_tests_per_thousand              7\n",
      "new_tests_per_thousand                7\n",
      "new_tests_smoothed                    7\n",
      "new_tests_smoothed_per_thousand       7\n",
      "tests_per_case                        7\n",
      "positive_rate                         7\n",
      "stringency_index                      4\n",
      "population                            0\n",
      "population_density                    1\n",
      "median_age                            1\n",
      "aged_65_older                         1\n",
      "aged_70_older                         1\n",
      "gdp_per_capita                        1\n",
      "extreme_poverty                       2\n",
      "cardiovasc_death_rate                 1\n",
      "diabetes_prevalence                   1\n",
      "female_smokers                        2\n",
      "male_smokers                          2\n",
      "handwashing_facilities                4\n",
      "hospital_beds_per_thousand            1\n",
      "life_expectancy                       0\n",
      "human_development_index               2\n",
      "dtype: int64\n"
     ]
    }
   ],
   "source": [
    "# b. Find missing values in all columns\n",
    "print(f\"missing values in all columns\\n{df_1.isna().sum()}\")"
   ]
  },
  {
   "cell_type": "code",
   "execution_count": 24,
   "metadata": {},
   "outputs": [
    {
     "name": "stdout",
     "output_type": "stream",
     "text": [
      "missing values in all columns\n",
      "iso_code                              0\n",
      "continent                             1\n",
      "location                              0\n",
      "date                                  0\n",
      "total_cases                           3\n",
      "new_cases                             0\n",
      "new_cases_smoothed                    7\n",
      "total_deaths                          7\n",
      "new_deaths                            0\n",
      "new_deaths_smoothed                   7\n",
      "total_cases_per_million               3\n",
      "new_cases_per_million                 0\n",
      "new_cases_smoothed_per_million        7\n",
      "total_deaths_per_million              7\n",
      "new_deaths_per_million                0\n",
      "new_deaths_smoothed_per_million       7\n",
      "reproduction_rate                     7\n",
      "icu_patients                          7\n",
      "icu_patients_per_million              7\n",
      "hosp_patients                         7\n",
      "hosp_patients_per_million             7\n",
      "weekly_icu_admissions                 7\n",
      "weekly_icu_admissions_per_million     7\n",
      "weekly_hosp_admissions                7\n",
      "weekly_hosp_admissions_per_million    7\n",
      "total_tests                           7\n",
      "new_tests                             7\n",
      "total_tests_per_thousand              7\n",
      "new_tests_per_thousand                7\n",
      "new_tests_smoothed                    7\n",
      "new_tests_smoothed_per_thousand       7\n",
      "tests_per_case                        7\n",
      "positive_rate                         7\n",
      "stringency_index                      4\n",
      "population                            0\n",
      "population_density                    1\n",
      "median_age                            1\n",
      "aged_65_older                         1\n",
      "aged_70_older                         1\n",
      "gdp_per_capita                        1\n",
      "extreme_poverty                       2\n",
      "cardiovasc_death_rate                 1\n",
      "diabetes_prevalence                   1\n",
      "female_smokers                        2\n",
      "male_smokers                          2\n",
      "handwashing_facilities                4\n",
      "hospital_beds_per_thousand            1\n",
      "life_expectancy                       0\n",
      "human_development_index               2\n",
      "dtype: int64\n"
     ]
    }
   ],
   "source": [
    "# solution2\n",
    "print(f\"missing values in all columns\\n{df_1.isnull().sum()}\")"
   ]
  },
  {
   "cell_type": "code",
   "execution_count": 25,
   "metadata": {},
   "outputs": [
    {
     "name": "stdout",
     "output_type": "stream",
     "text": [
      "after removing all observations where continent column value is missing\n",
      "     iso_code      continent     location      date  total_cases  new_cases  \\\n",
      "0         AFG           Asia  Afghanistan  31/12/19          NaN        0.0   \n",
      "323       ALB         Europe      Albania  09/03/20          2.0        2.0   \n",
      "577       DZA         Africa      Algeria  31/12/19          NaN        0.0   \n",
      "1396      AIA  North America     Anguilla  27/03/20          2.0        2.0   \n",
      "1875      ARG  South America    Argentina  04/03/20          1.0        1.0   \n",
      "2701      AUS        Oceania    Australia  31/12/19          NaN        0.0   \n",
      "\n",
      "      new_cases_smoothed  total_deaths  new_deaths  new_deaths_smoothed  ...  \\\n",
      "0                    NaN           NaN         0.0                  NaN  ...   \n",
      "323                  NaN           NaN         0.0                  NaN  ...   \n",
      "577                  NaN           NaN         0.0                  NaN  ...   \n",
      "1396                 NaN           NaN         0.0                  NaN  ...   \n",
      "1875                 NaN           NaN         0.0                  NaN  ...   \n",
      "2701                 NaN           NaN         0.0                  NaN  ...   \n",
      "\n",
      "      gdp_per_capita  extreme_poverty  cardiovasc_death_rate  \\\n",
      "0           1803.987              NaN                597.029   \n",
      "323        11803.431              1.1                304.195   \n",
      "577        13913.839              0.5                278.364   \n",
      "1396             NaN              NaN                    NaN   \n",
      "1875       18933.907              0.6                191.032   \n",
      "2701       44648.710              0.5                107.791   \n",
      "\n",
      "      diabetes_prevalence  female_smokers  male_smokers  \\\n",
      "0                    9.59             NaN           NaN   \n",
      "323                 10.08             7.1          51.2   \n",
      "577                  6.73             0.7          30.4   \n",
      "1396                  NaN             NaN           NaN   \n",
      "1875                 5.50            16.2          27.7   \n",
      "2701                 5.07            13.0          16.5   \n",
      "\n",
      "      handwashing_facilities  hospital_beds_per_thousand  life_expectancy  \\\n",
      "0                     37.746                        0.50            64.83   \n",
      "323                      NaN                        2.89            78.57   \n",
      "577                   83.741                        1.90            76.88   \n",
      "1396                     NaN                         NaN            81.88   \n",
      "1875                     NaN                        5.00            76.67   \n",
      "2701                     NaN                        3.84            83.44   \n",
      "\n",
      "      human_development_index  \n",
      "0                       0.498  \n",
      "323                     0.785  \n",
      "577                     0.754  \n",
      "1396                      NaN  \n",
      "1875                    0.825  \n",
      "2701                    0.939  \n",
      "\n",
      "[6 rows x 49 columns]\n"
     ]
    }
   ],
   "source": [
    "# c. Remove all observations where continent column value is missing\n",
    "df_1=df_1.dropna(subset='continent',)\n",
    "print(f\"after removing all observations where continent column value is missing\\n{df_1}\")"
   ]
  },
  {
   "cell_type": "code",
   "execution_count": 26,
   "metadata": {},
   "outputs": [
    {
     "name": "stdout",
     "output_type": "stream",
     "text": [
      "after filling null values with 0\n",
      "     iso_code      continent     location      date  total_cases  new_cases  \\\n",
      "0         AFG           Asia  Afghanistan  31/12/19          0.0        0.0   \n",
      "323       ALB         Europe      Albania  09/03/20          2.0        2.0   \n",
      "577       DZA         Africa      Algeria  31/12/19          0.0        0.0   \n",
      "1396      AIA  North America     Anguilla  27/03/20          2.0        2.0   \n",
      "1875      ARG  South America    Argentina  04/03/20          1.0        1.0   \n",
      "2701      AUS        Oceania    Australia  31/12/19          0.0        0.0   \n",
      "\n",
      "      new_cases_smoothed  total_deaths  new_deaths  new_deaths_smoothed  ...  \\\n",
      "0                    0.0           0.0         0.0                  0.0  ...   \n",
      "323                  0.0           0.0         0.0                  0.0  ...   \n",
      "577                  0.0           0.0         0.0                  0.0  ...   \n",
      "1396                 0.0           0.0         0.0                  0.0  ...   \n",
      "1875                 0.0           0.0         0.0                  0.0  ...   \n",
      "2701                 0.0           0.0         0.0                  0.0  ...   \n",
      "\n",
      "      gdp_per_capita  extreme_poverty  cardiovasc_death_rate  \\\n",
      "0           1803.987              0.0                597.029   \n",
      "323        11803.431              1.1                304.195   \n",
      "577        13913.839              0.5                278.364   \n",
      "1396           0.000              0.0                  0.000   \n",
      "1875       18933.907              0.6                191.032   \n",
      "2701       44648.710              0.5                107.791   \n",
      "\n",
      "      diabetes_prevalence  female_smokers  male_smokers  \\\n",
      "0                    9.59             0.0           0.0   \n",
      "323                 10.08             7.1          51.2   \n",
      "577                  6.73             0.7          30.4   \n",
      "1396                 0.00             0.0           0.0   \n",
      "1875                 5.50            16.2          27.7   \n",
      "2701                 5.07            13.0          16.5   \n",
      "\n",
      "      handwashing_facilities  hospital_beds_per_thousand  life_expectancy  \\\n",
      "0                     37.746                        0.50            64.83   \n",
      "323                    0.000                        2.89            78.57   \n",
      "577                   83.741                        1.90            76.88   \n",
      "1396                   0.000                        0.00            81.88   \n",
      "1875                   0.000                        5.00            76.67   \n",
      "2701                   0.000                        3.84            83.44   \n",
      "\n",
      "      human_development_index  \n",
      "0                       0.498  \n",
      "323                     0.785  \n",
      "577                     0.754  \n",
      "1396                    0.000  \n",
      "1875                    0.825  \n",
      "2701                    0.939  \n",
      "\n",
      "[6 rows x 49 columns]\n"
     ]
    }
   ],
   "source": [
    "# d. Fill all missing values with 0\n",
    "df_1=df_1.fillna(0)\n",
    "print(f\"after filling null values with 0\\n{df_1}\")"
   ]
  },
  {
   "attachments": {},
   "cell_type": "markdown",
   "metadata": {},
   "source": [
    "6. Date time format :\n",
    "a. Convert date column in datetime format using\n",
    "pandas.to_datetime\n",
    "b. Create new column month after extracting month data from date colum"
   ]
  },
  {
   "cell_type": "code",
   "execution_count": 27,
   "metadata": {},
   "outputs": [
    {
     "name": "stdout",
     "output_type": "stream",
     "text": [
      "datetime64[ns]\n"
     ]
    }
   ],
   "source": [
    "# a. Convert date column in datetime format using pandas.to_datetime\n",
    "df_1['date'] = pd.to_datetime(df_1['date'])\n",
    "print(df_1['date'].dtype)"
   ]
  },
  {
   "cell_type": "code",
   "execution_count": 28,
   "metadata": {},
   "outputs": [
    {
     "name": "stdout",
     "output_type": "stream",
     "text": [
      "     iso_code      continent     location       date  total_cases  new_cases  \\\n",
      "0         AFG           Asia  Afghanistan 2019-12-31          0.0        0.0   \n",
      "323       ALB         Europe      Albania 2020-09-03          2.0        2.0   \n",
      "577       DZA         Africa      Algeria 2019-12-31          0.0        0.0   \n",
      "1396      AIA  North America     Anguilla 2020-03-27          2.0        2.0   \n",
      "1875      ARG  South America    Argentina 2020-04-03          1.0        1.0   \n",
      "\n",
      "      new_cases_smoothed  total_deaths  new_deaths  new_deaths_smoothed  ...  \\\n",
      "0                    0.0           0.0         0.0                  0.0  ...   \n",
      "323                  0.0           0.0         0.0                  0.0  ...   \n",
      "577                  0.0           0.0         0.0                  0.0  ...   \n",
      "1396                 0.0           0.0         0.0                  0.0  ...   \n",
      "1875                 0.0           0.0         0.0                  0.0  ...   \n",
      "\n",
      "      extreme_poverty  cardiovasc_death_rate  diabetes_prevalence  \\\n",
      "0                 0.0                597.029                 9.59   \n",
      "323               1.1                304.195                10.08   \n",
      "577               0.5                278.364                 6.73   \n",
      "1396              0.0                  0.000                 0.00   \n",
      "1875              0.6                191.032                 5.50   \n",
      "\n",
      "      female_smokers  male_smokers  handwashing_facilities  \\\n",
      "0                0.0           0.0                  37.746   \n",
      "323              7.1          51.2                   0.000   \n",
      "577              0.7          30.4                  83.741   \n",
      "1396             0.0           0.0                   0.000   \n",
      "1875            16.2          27.7                   0.000   \n",
      "\n",
      "      hospital_beds_per_thousand  life_expectancy  human_development_index  \\\n",
      "0                           0.50            64.83                    0.498   \n",
      "323                         2.89            78.57                    0.785   \n",
      "577                         1.90            76.88                    0.754   \n",
      "1396                        0.00            81.88                    0.000   \n",
      "1875                        5.00            76.67                    0.825   \n",
      "\n",
      "      month  \n",
      "0        12  \n",
      "323       9  \n",
      "577      12  \n",
      "1396      3  \n",
      "1875      4  \n",
      "\n",
      "[5 rows x 50 columns]\n"
     ]
    }
   ],
   "source": [
    "# b. Create new column month after extracting month data from date column\n",
    "df_1['month']=df_1['date'].dt.month\n",
    "print(df_1.head())"
   ]
  },
  {
   "attachments": {},
   "cell_type": "markdown",
   "metadata": {},
   "source": [
    "7. Data Aggregation:\n",
    "a. Find max value in all columns using groupby function on\n",
    "'continent'\n",
    "column\n",
    "Tip: use reset_index() after applying groupby\n",
    "b. Store the result in a new dataframe named 'df_groupby'.\n",
    "(Use df_groupby dataframe for all further analysis)"
   ]
  },
  {
   "cell_type": "code",
   "execution_count": 29,
   "metadata": {},
   "outputs": [
    {
     "name": "stdout",
     "output_type": "stream",
     "text": [
      "max value in all columns via continent\n",
      "iso_code                                              DZA\n",
      "location                                        Australia\n",
      "date                                  2020-09-03 00:00:00\n",
      "total_cases                                           2.0\n",
      "new_cases                                             2.0\n",
      "new_cases_smoothed                                    0.0\n",
      "total_deaths                                          0.0\n",
      "new_deaths                                            0.0\n",
      "new_deaths_smoothed                                   0.0\n",
      "total_cases_per_million                           133.316\n",
      "new_cases_per_million                             133.316\n",
      "new_cases_smoothed_per_million                        0.0\n",
      "total_deaths_per_million                              0.0\n",
      "new_deaths_per_million                                0.0\n",
      "new_deaths_smoothed_per_million                       0.0\n",
      "reproduction_rate                                     0.0\n",
      "icu_patients                                          0.0\n",
      "icu_patients_per_million                              0.0\n",
      "hosp_patients                                         0.0\n",
      "hosp_patients_per_million                             0.0\n",
      "weekly_icu_admissions                                 0.0\n",
      "weekly_icu_admissions_per_million                     0.0\n",
      "weekly_hosp_admissions                                0.0\n",
      "weekly_hosp_admissions_per_million                    0.0\n",
      "total_tests                                           0.0\n",
      "new_tests                                             0.0\n",
      "total_tests_per_thousand                              0.0\n",
      "new_tests_per_thousand                                0.0\n",
      "new_tests_smoothed                                    0.0\n",
      "new_tests_smoothed_per_thousand                       0.0\n",
      "tests_per_case                                        0.0\n",
      "positive_rate                                         0.0\n",
      "stringency_index                                     71.3\n",
      "population                                     45195777.0\n",
      "population_density                                104.871\n",
      "median_age                                           38.0\n",
      "aged_65_older                                      15.504\n",
      "aged_70_older                                      10.129\n",
      "gdp_per_capita                                   44648.71\n",
      "extreme_poverty                                       1.1\n",
      "cardiovasc_death_rate                             597.029\n",
      "diabetes_prevalence                                 10.08\n",
      "female_smokers                                       16.2\n",
      "male_smokers                                         51.2\n",
      "handwashing_facilities                             83.741\n",
      "hospital_beds_per_thousand                            5.0\n",
      "life_expectancy                                     83.44\n",
      "human_development_index                             0.939\n",
      "month                                                  12\n",
      "dtype: object\n"
     ]
    }
   ],
   "source": [
    "# a. Find max value in all columns using groupby function on 'continent'\n",
    "print(f\"max value in all columns via continent\\n{df_1.groupby('continent').max().max()}\")"
   ]
  },
  {
   "cell_type": "code",
   "execution_count": 30,
   "metadata": {},
   "outputs": [
    {
     "name": "stdout",
     "output_type": "stream",
     "text": [
      "iso_code                                              DZA\n",
      "location                                        Australia\n",
      "date                                  2020-09-03 00:00:00\n",
      "total_cases                                           2.0\n",
      "new_cases                                             2.0\n",
      "new_cases_smoothed                                    0.0\n",
      "total_deaths                                          0.0\n",
      "new_deaths                                            0.0\n",
      "new_deaths_smoothed                                   0.0\n",
      "total_cases_per_million                           133.316\n",
      "new_cases_per_million                             133.316\n",
      "new_cases_smoothed_per_million                        0.0\n",
      "total_deaths_per_million                              0.0\n",
      "new_deaths_per_million                                0.0\n",
      "new_deaths_smoothed_per_million                       0.0\n",
      "reproduction_rate                                     0.0\n",
      "icu_patients                                          0.0\n",
      "icu_patients_per_million                              0.0\n",
      "hosp_patients                                         0.0\n",
      "hosp_patients_per_million                             0.0\n",
      "weekly_icu_admissions                                 0.0\n",
      "weekly_icu_admissions_per_million                     0.0\n",
      "weekly_hosp_admissions                                0.0\n",
      "weekly_hosp_admissions_per_million                    0.0\n",
      "total_tests                                           0.0\n",
      "new_tests                                             0.0\n",
      "total_tests_per_thousand                              0.0\n",
      "new_tests_per_thousand                                0.0\n",
      "new_tests_smoothed                                    0.0\n",
      "new_tests_smoothed_per_thousand                       0.0\n",
      "tests_per_case                                        0.0\n",
      "positive_rate                                         0.0\n",
      "stringency_index                                     71.3\n",
      "population                                     45195777.0\n",
      "population_density                                104.871\n",
      "median_age                                           38.0\n",
      "aged_65_older                                      15.504\n",
      "aged_70_older                                      10.129\n",
      "gdp_per_capita                                   44648.71\n",
      "extreme_poverty                                       1.1\n",
      "cardiovasc_death_rate                             597.029\n",
      "diabetes_prevalence                                 10.08\n",
      "female_smokers                                       16.2\n",
      "male_smokers                                         51.2\n",
      "handwashing_facilities                             83.741\n",
      "hospital_beds_per_thousand                            5.0\n",
      "life_expectancy                                     83.44\n",
      "human_development_index                             0.939\n",
      "month                                                  12\n",
      "dtype: object\n"
     ]
    }
   ],
   "source": [
    "# solution2\n",
    "print(df_1.groupby('continent').max().sort_values(by = 'continent').max())"
   ]
  },
  {
   "cell_type": "code",
   "execution_count": 31,
   "metadata": {},
   "outputs": [],
   "source": [
    "# b. Store the result in a new dataframe named 'df_groupby'.(Use df_groupby dataframe for all further analysis)\n",
    "df_groupby=df_1.groupby('continent').max().sort_values(by='continent',ascending=False).max().reset_index(name='Max_value')"
   ]
  },
  {
   "attachments": {},
   "cell_type": "markdown",
   "metadata": {},
   "source": [
    "8. Feature Engineering :\n",
    "a. Create a new feature 'total_deaths_to_total_cases' by ratio of\n",
    "'total_deaths' column to 'total_cases'"
   ]
  },
  {
   "cell_type": "code",
   "execution_count": 32,
   "metadata": {},
   "outputs": [
    {
     "data": {
      "text/html": [
       "<div>\n",
       "<style scoped>\n",
       "    .dataframe tbody tr th:only-of-type {\n",
       "        vertical-align: middle;\n",
       "    }\n",
       "\n",
       "    .dataframe tbody tr th {\n",
       "        vertical-align: top;\n",
       "    }\n",
       "\n",
       "    .dataframe thead th {\n",
       "        text-align: right;\n",
       "    }\n",
       "</style>\n",
       "<table border=\"1\" class=\"dataframe\">\n",
       "  <thead>\n",
       "    <tr style=\"text-align: right;\">\n",
       "      <th></th>\n",
       "      <th>iso_code</th>\n",
       "      <th>continent</th>\n",
       "      <th>location</th>\n",
       "      <th>date</th>\n",
       "      <th>total_cases</th>\n",
       "      <th>new_cases</th>\n",
       "      <th>new_cases_smoothed</th>\n",
       "      <th>total_deaths</th>\n",
       "      <th>new_deaths</th>\n",
       "      <th>new_deaths_smoothed</th>\n",
       "      <th>...</th>\n",
       "      <th>cardiovasc_death_rate</th>\n",
       "      <th>diabetes_prevalence</th>\n",
       "      <th>female_smokers</th>\n",
       "      <th>male_smokers</th>\n",
       "      <th>handwashing_facilities</th>\n",
       "      <th>hospital_beds_per_thousand</th>\n",
       "      <th>life_expectancy</th>\n",
       "      <th>human_development_index</th>\n",
       "      <th>month</th>\n",
       "      <th>total_deaths_to_total_cases</th>\n",
       "    </tr>\n",
       "  </thead>\n",
       "  <tbody>\n",
       "    <tr>\n",
       "      <th>0</th>\n",
       "      <td>AFG</td>\n",
       "      <td>Asia</td>\n",
       "      <td>Afghanistan</td>\n",
       "      <td>2019-12-31</td>\n",
       "      <td>0.0</td>\n",
       "      <td>0.0</td>\n",
       "      <td>0.0</td>\n",
       "      <td>0.0</td>\n",
       "      <td>0.0</td>\n",
       "      <td>0.0</td>\n",
       "      <td>...</td>\n",
       "      <td>597.029</td>\n",
       "      <td>9.59</td>\n",
       "      <td>0.0</td>\n",
       "      <td>0.0</td>\n",
       "      <td>37.746</td>\n",
       "      <td>0.50</td>\n",
       "      <td>64.83</td>\n",
       "      <td>0.498</td>\n",
       "      <td>12</td>\n",
       "      <td>NaN</td>\n",
       "    </tr>\n",
       "    <tr>\n",
       "      <th>323</th>\n",
       "      <td>ALB</td>\n",
       "      <td>Europe</td>\n",
       "      <td>Albania</td>\n",
       "      <td>2020-09-03</td>\n",
       "      <td>2.0</td>\n",
       "      <td>2.0</td>\n",
       "      <td>0.0</td>\n",
       "      <td>0.0</td>\n",
       "      <td>0.0</td>\n",
       "      <td>0.0</td>\n",
       "      <td>...</td>\n",
       "      <td>304.195</td>\n",
       "      <td>10.08</td>\n",
       "      <td>7.1</td>\n",
       "      <td>51.2</td>\n",
       "      <td>0.000</td>\n",
       "      <td>2.89</td>\n",
       "      <td>78.57</td>\n",
       "      <td>0.785</td>\n",
       "      <td>9</td>\n",
       "      <td>0.0</td>\n",
       "    </tr>\n",
       "    <tr>\n",
       "      <th>577</th>\n",
       "      <td>DZA</td>\n",
       "      <td>Africa</td>\n",
       "      <td>Algeria</td>\n",
       "      <td>2019-12-31</td>\n",
       "      <td>0.0</td>\n",
       "      <td>0.0</td>\n",
       "      <td>0.0</td>\n",
       "      <td>0.0</td>\n",
       "      <td>0.0</td>\n",
       "      <td>0.0</td>\n",
       "      <td>...</td>\n",
       "      <td>278.364</td>\n",
       "      <td>6.73</td>\n",
       "      <td>0.7</td>\n",
       "      <td>30.4</td>\n",
       "      <td>83.741</td>\n",
       "      <td>1.90</td>\n",
       "      <td>76.88</td>\n",
       "      <td>0.754</td>\n",
       "      <td>12</td>\n",
       "      <td>NaN</td>\n",
       "    </tr>\n",
       "    <tr>\n",
       "      <th>1396</th>\n",
       "      <td>AIA</td>\n",
       "      <td>North America</td>\n",
       "      <td>Anguilla</td>\n",
       "      <td>2020-03-27</td>\n",
       "      <td>2.0</td>\n",
       "      <td>2.0</td>\n",
       "      <td>0.0</td>\n",
       "      <td>0.0</td>\n",
       "      <td>0.0</td>\n",
       "      <td>0.0</td>\n",
       "      <td>...</td>\n",
       "      <td>0.000</td>\n",
       "      <td>0.00</td>\n",
       "      <td>0.0</td>\n",
       "      <td>0.0</td>\n",
       "      <td>0.000</td>\n",
       "      <td>0.00</td>\n",
       "      <td>81.88</td>\n",
       "      <td>0.000</td>\n",
       "      <td>3</td>\n",
       "      <td>0.0</td>\n",
       "    </tr>\n",
       "    <tr>\n",
       "      <th>1875</th>\n",
       "      <td>ARG</td>\n",
       "      <td>South America</td>\n",
       "      <td>Argentina</td>\n",
       "      <td>2020-04-03</td>\n",
       "      <td>1.0</td>\n",
       "      <td>1.0</td>\n",
       "      <td>0.0</td>\n",
       "      <td>0.0</td>\n",
       "      <td>0.0</td>\n",
       "      <td>0.0</td>\n",
       "      <td>...</td>\n",
       "      <td>191.032</td>\n",
       "      <td>5.50</td>\n",
       "      <td>16.2</td>\n",
       "      <td>27.7</td>\n",
       "      <td>0.000</td>\n",
       "      <td>5.00</td>\n",
       "      <td>76.67</td>\n",
       "      <td>0.825</td>\n",
       "      <td>4</td>\n",
       "      <td>0.0</td>\n",
       "    </tr>\n",
       "  </tbody>\n",
       "</table>\n",
       "<p>5 rows × 51 columns</p>\n",
       "</div>"
      ],
      "text/plain": [
       "     iso_code      continent     location       date  total_cases  new_cases  \\\n",
       "0         AFG           Asia  Afghanistan 2019-12-31          0.0        0.0   \n",
       "323       ALB         Europe      Albania 2020-09-03          2.0        2.0   \n",
       "577       DZA         Africa      Algeria 2019-12-31          0.0        0.0   \n",
       "1396      AIA  North America     Anguilla 2020-03-27          2.0        2.0   \n",
       "1875      ARG  South America    Argentina 2020-04-03          1.0        1.0   \n",
       "\n",
       "      new_cases_smoothed  total_deaths  new_deaths  new_deaths_smoothed  ...  \\\n",
       "0                    0.0           0.0         0.0                  0.0  ...   \n",
       "323                  0.0           0.0         0.0                  0.0  ...   \n",
       "577                  0.0           0.0         0.0                  0.0  ...   \n",
       "1396                 0.0           0.0         0.0                  0.0  ...   \n",
       "1875                 0.0           0.0         0.0                  0.0  ...   \n",
       "\n",
       "      cardiovasc_death_rate  diabetes_prevalence  female_smokers  \\\n",
       "0                   597.029                 9.59             0.0   \n",
       "323                 304.195                10.08             7.1   \n",
       "577                 278.364                 6.73             0.7   \n",
       "1396                  0.000                 0.00             0.0   \n",
       "1875                191.032                 5.50            16.2   \n",
       "\n",
       "      male_smokers  handwashing_facilities  hospital_beds_per_thousand  \\\n",
       "0              0.0                  37.746                        0.50   \n",
       "323           51.2                   0.000                        2.89   \n",
       "577           30.4                  83.741                        1.90   \n",
       "1396           0.0                   0.000                        0.00   \n",
       "1875          27.7                   0.000                        5.00   \n",
       "\n",
       "      life_expectancy  human_development_index  month  \\\n",
       "0               64.83                    0.498     12   \n",
       "323             78.57                    0.785      9   \n",
       "577             76.88                    0.754     12   \n",
       "1396            81.88                    0.000      3   \n",
       "1875            76.67                    0.825      4   \n",
       "\n",
       "      total_deaths_to_total_cases  \n",
       "0                             NaN  \n",
       "323                           0.0  \n",
       "577                           NaN  \n",
       "1396                          0.0  \n",
       "1875                          0.0  \n",
       "\n",
       "[5 rows x 51 columns]"
      ]
     },
     "execution_count": 32,
     "metadata": {},
     "output_type": "execute_result"
    }
   ],
   "source": [
    "# a. Create a new feature 'total_deaths_to_total_cases' by ratio of'total_deaths' column to 'total_cases'\n",
    "df_1['total_deaths_to_total_cases']=(df_1['total_deaths']/df['total_cases'])\n",
    "df_1.head()"
   ]
  },
  {
   "cell_type": "code",
   "execution_count": 33,
   "metadata": {},
   "outputs": [],
   "source": [
    "df_1['total_deaths_to_total_cases']=(df_1['total_deaths']/df['total_cases'])"
   ]
  },
  {
   "cell_type": "code",
   "execution_count": 34,
   "metadata": {},
   "outputs": [
    {
     "data": {
      "text/plain": [
       "0       NaN\n",
       "323     0.0\n",
       "577     NaN\n",
       "1396    0.0\n",
       "1875    0.0\n",
       "2701    NaN\n",
       "Name: total_deaths_to_total_cases, dtype: float64"
      ]
     },
     "execution_count": 34,
     "metadata": {},
     "output_type": "execute_result"
    }
   ],
   "source": [
    "df_1['total_deaths_to_total_cases']"
   ]
  },
  {
   "attachments": {},
   "cell_type": "markdown",
   "metadata": {},
   "source": [
    "9. Data Visualization :\n",
    "a. Perform Univariate analysis on 'gdp_per_capita' column by plotting histogram using seaborn dist plot.\n",
    "b. Plot a scatter plot of 'total_cases' & 'gdp_per_capita'\n",
    "c. Plot Pairplot on df_groupby dataset.\n",
    "d. Plot a bar plot of 'continent' column with 'total_cases' .\n",
    "Tip : using kind='bar' in seaborn catplot"
   ]
  },
  {
   "cell_type": "code",
   "execution_count": 35,
   "metadata": {},
   "outputs": [
    {
     "name": "stderr",
     "output_type": "stream",
     "text": [
      "C:\\Users\\BIKASH\\AppData\\Local\\Temp\\ipykernel_13028\\929201228.py:2: UserWarning: \n",
      "\n",
      "`distplot` is a deprecated function and will be removed in seaborn v0.14.0.\n",
      "\n",
      "Please adapt your code to use either `displot` (a figure-level function with\n",
      "similar flexibility) or `histplot` (an axes-level function for histograms).\n",
      "\n",
      "For a guide to updating your code to use the new functions, please see\n",
      "https://gist.github.com/mwaskom/de44147ed2974457ad6372750bbe5751\n",
      "\n",
      "  sns.distplot(df_1['gdp_per_capita'],kde = True, color = 'orange', bins = 25)\n"
     ]
    },
    {
     "data": {
      "text/plain": [
       "<AxesSubplot: xlabel='gdp_per_capita', ylabel='Density'>"
      ]
     },
     "execution_count": 35,
     "metadata": {},
     "output_type": "execute_result"
    },
    {
     "data": {
      "image/png": "[encoded data removed]",
      "text/plain": [
       "<Figure size 640x480 with 1 Axes>"
      ]
     },
     "metadata": {},
     "output_type": "display_data"
    }
   ],
   "source": [
    "# a. Perform Univariate analysis on 'gdp_per_capita' column by plotting histogram using seaborn dist plot.\n",
    "sns.distplot(df_1['gdp_per_capita'],kde = True, color = 'orange', bins = 25)"
   ]
  },
  {
   "cell_type": "code",
   "execution_count": 36,
   "metadata": {},
   "outputs": [
    {
     "data": {
      "image/png": "[encoded data removed]",
      "text/plain": [
       "<Figure size 640x480 with 1 Axes>"
      ]
     },
     "metadata": {},
     "output_type": "display_data"
    },
    {
     "name": "stdout",
     "output_type": "stream",
     "text": [
      "None\n"
     ]
    }
   ],
   "source": [
    "# b. Plot a scatter plot of 'total_cases' & 'gdp_per_capita'\n",
    "scatter_plot=plt.scatter('total_cases', 'gdp_per_capita', color = 'red',data=df_1)\n",
    "print(plt.show(scatter_plot))"
   ]
  },
  {
   "cell_type": "code",
   "execution_count": 37,
   "metadata": {},
   "outputs": [
    {
     "name": "stdout",
     "output_type": "stream",
     "text": [
      "AxesSubplot(0.125,0.11;0.775x0.77)\n"
     ]
    },
    {
     "data": {
      "image/png": "[encoded data removed]",
      "text/plain": [
       "<Figure size 640x480 with 1 Axes>"
      ]
     },
     "metadata": {},
     "output_type": "display_data"
    }
   ],
   "source": [
    "# solution2\n",
    "sc_plot=sns.scatterplot( data=df_1,x='total_cases', y='gdp_per_capita',)\n",
    "print(sc_plot)"
   ]
  },
  {
   "cell_type": "code",
   "execution_count": 42,
   "metadata": {},
   "outputs": [
    {
     "ename": "ValueError",
     "evalue": "No variables found for grid columns.",
     "output_type": "error",
     "traceback": [
      "\u001b[1;31m---------------------------------------------------------------------------\u001b[0m",
      "\u001b[1;31mValueError\u001b[0m                                Traceback (most recent call last)",
      "Cell \u001b[1;32mIn[42], line 2\u001b[0m\n\u001b[0;32m      1\u001b[0m \u001b[39m# c. Plot Pairplot on df_groupby dataset.\u001b[39;00m\n\u001b[1;32m----> 2\u001b[0m sns\u001b[39m.\u001b[39;49mpairplot(df_groupby)\n",
      "File \u001b[1;32mc:\\Users\\BIKASH\\AppData\\Local\\Programs\\Python\\Python311\\Lib\\site-packages\\seaborn\\axisgrid.py:2114\u001b[0m, in \u001b[0;36mpairplot\u001b[1;34m(data, hue, hue_order, palette, vars, x_vars, y_vars, kind, diag_kind, markers, height, aspect, corner, dropna, plot_kws, diag_kws, grid_kws, size)\u001b[0m\n\u001b[0;32m   2112\u001b[0m \u001b[39m# Set up the PairGrid\u001b[39;00m\n\u001b[0;32m   2113\u001b[0m grid_kws\u001b[39m.\u001b[39msetdefault(\u001b[39m\"\u001b[39m\u001b[39mdiag_sharey\u001b[39m\u001b[39m\"\u001b[39m, diag_kind \u001b[39m==\u001b[39m \u001b[39m\"\u001b[39m\u001b[39mhist\u001b[39m\u001b[39m\"\u001b[39m)\n\u001b[1;32m-> 2114\u001b[0m grid \u001b[39m=\u001b[39m PairGrid(data, \u001b[39mvars\u001b[39;49m\u001b[39m=\u001b[39;49m\u001b[39mvars\u001b[39;49m, x_vars\u001b[39m=\u001b[39;49mx_vars, y_vars\u001b[39m=\u001b[39;49my_vars, hue\u001b[39m=\u001b[39;49mhue,\n\u001b[0;32m   2115\u001b[0m                 hue_order\u001b[39m=\u001b[39;49mhue_order, palette\u001b[39m=\u001b[39;49mpalette, corner\u001b[39m=\u001b[39;49mcorner,\n\u001b[0;32m   2116\u001b[0m                 height\u001b[39m=\u001b[39;49mheight, aspect\u001b[39m=\u001b[39;49maspect, dropna\u001b[39m=\u001b[39;49mdropna, \u001b[39m*\u001b[39;49m\u001b[39m*\u001b[39;49mgrid_kws)\n\u001b[0;32m   2118\u001b[0m \u001b[39m# Add the markers here as PairGrid has figured out how many levels of the\u001b[39;00m\n\u001b[0;32m   2119\u001b[0m \u001b[39m# hue variable are needed and we don't want to duplicate that process\u001b[39;00m\n\u001b[0;32m   2120\u001b[0m \u001b[39mif\u001b[39;00m markers \u001b[39mis\u001b[39;00m \u001b[39mnot\u001b[39;00m \u001b[39mNone\u001b[39;00m:\n",
      "File \u001b[1;32mc:\\Users\\BIKASH\\AppData\\Local\\Programs\\Python\\Python311\\Lib\\site-packages\\seaborn\\axisgrid.py:1266\u001b[0m, in \u001b[0;36mPairGrid.__init__\u001b[1;34m(self, data, hue, vars, x_vars, y_vars, hue_order, palette, hue_kws, corner, diag_sharey, height, aspect, layout_pad, despine, dropna)\u001b[0m\n\u001b[0;32m   1263\u001b[0m \u001b[39mself\u001b[39m\u001b[39m.\u001b[39msquare_grid \u001b[39m=\u001b[39m \u001b[39mself\u001b[39m\u001b[39m.\u001b[39mx_vars \u001b[39m==\u001b[39m \u001b[39mself\u001b[39m\u001b[39m.\u001b[39my_vars\n\u001b[0;32m   1265\u001b[0m \u001b[39mif\u001b[39;00m \u001b[39mnot\u001b[39;00m x_vars:\n\u001b[1;32m-> 1266\u001b[0m     \u001b[39mraise\u001b[39;00m \u001b[39mValueError\u001b[39;00m(\u001b[39m\"\u001b[39m\u001b[39mNo variables found for grid columns.\u001b[39m\u001b[39m\"\u001b[39m)\n\u001b[0;32m   1267\u001b[0m \u001b[39mif\u001b[39;00m \u001b[39mnot\u001b[39;00m y_vars:\n\u001b[0;32m   1268\u001b[0m     \u001b[39mraise\u001b[39;00m \u001b[39mValueError\u001b[39;00m(\u001b[39m\"\u001b[39m\u001b[39mNo variables found for grid rows.\u001b[39m\u001b[39m\"\u001b[39m)\n",
      "\u001b[1;31mValueError\u001b[0m: No variables found for grid columns."
     ]
    }
   ],
   "source": [
    "# c. Plot Pairplot on df_groupby dataset.\n",
    "sns.pairplot(df_groupby)"
   ]
  },
  {
   "cell_type": "code",
   "execution_count": 41,
   "metadata": {},
   "outputs": [
    {
     "data": {
      "image/png": "[encoded data removed]",
      "text/plain": [
       "<Figure size 640x480 with 1 Axes>"
      ]
     },
     "metadata": {},
     "output_type": "display_data"
    }
   ],
   "source": [
    "# d. Plot a bar plot of 'continent' column with 'total_cases' .\n",
    "bar_plot= plt.bar('continent','total_cases',color='teal',data=df_1)\n",
    "plt.xlabel('Continent')\n",
    "plt.ylabel('Total Cases')\n",
    "plt.title('Total Cases By Continent')\n",
    "plt.show(bar_plot)"
   ]
  },
  {
   "cell_type": "code",
   "execution_count": 40,
   "metadata": {},
   "outputs": [
    {
     "data": {
      "text/plain": [
       "<seaborn.axisgrid.FacetGrid at 0x21dba28a650>"
      ]
     },
     "execution_count": 40,
     "metadata": {},
     "output_type": "execute_result"
    },
    {
     "data": {
      "image/png": "[encoded data removed]",
      "text/plain": [
       "<Figure size 500x500 with 1 Axes>"
      ]
     },
     "metadata": {},
     "output_type": "display_data"
    }
   ],
   "source": [
    "# solution2\n",
    "sns.catplot(x='continent',y='total_cases',kind='bar',data=df_1)"
   ]
  },
  {
   "attachments": {},
   "cell_type": "markdown",
   "metadata": {},
   "source": [
    "10.Save the df_groupby dataframe in your local drive using\n",
    "pandas.to_csv\n",
    "function ."
   ]
  },
  {
   "cell_type": "code",
   "execution_count": 39,
   "metadata": {},
   "outputs": [],
   "source": [
    "df_groupby.to_csv(\"C://Users//BIKASH//Desktop/Data2.csv\")\n"
   ]
  }
 ],
 "metadata": {
  "kernelspec": {
   "display_name": "Python 3",
   "language": "python",
   "name": "python3"
  },
  "language_info": {
   "codemirror_mode": {
    "name": "ipython",
    "version": 3
   },
   "file_extension": ".py",
   "mimetype": "text/x-python",
   "name": "python",
   "nbconvert_exporter": "python",
   "pygments_lexer": "ipython3",
   "version": "3.11.1"
  },
  "orig_nbformat": 4,
  "vscode": {
   "interpreter": {
    "hash": "a135a2979dcc31b13684e0092fc272a0229e357331cfbb7d4f1db7898b97e5e4"
   }
  }
 },
 "nbformat": 4,
 "nbformat_minor": 2
}
