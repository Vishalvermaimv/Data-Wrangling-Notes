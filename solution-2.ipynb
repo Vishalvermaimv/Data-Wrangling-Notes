{
 "cells": [
  {
   "cell_type": "code",
   "execution_count": null,
   "metadata": {},
   "outputs": [],
   "source": [
    "# importing important libraries\n",
    "import pandas as pd \n",
    "import numpy as np\n",
    "import seaborn as sns\n",
    "import matplotlib.pyplot as plt"
   ]
  },
  {
   "cell_type": "code",
   "execution_count": null,
   "metadata": {},
   "outputs": [],
   "source": [
    "# 1 importing dataset\n",
    "# df = pd.read_csv(\"https://raw.githubusercontent.com/SR1608/Datasets/main/covid-data.csv\")\n",
    "# df.to_csv(\"C://Users//BIKASH//Desktop/Data.csv\",index=False)"
   ]
  },
  {
   "cell_type": "code",
   "execution_count": null,
   "metadata": {},
   "outputs": [],
   "source": [
    "df = pd.read_csv(\"C://Users//BIKASH//Desktop/Data.csv\")\n",
    "df = pd.DataFrame(df)\n",
    "df.head()"
   ]
  },
  {
   "attachments": {},
   "cell_type": "markdown",
   "metadata": {},
   "source": [
    "2. High Level Data Understanding:\n",
    "a. Find no. of rows & columns in the dataset\n",
    "b. Data types of columns.\n",
    "c. Info & describe of data in dataframe."
   ]
  },
  {
   "cell_type": "code",
   "execution_count": null,
   "metadata": {},
   "outputs": [],
   "source": [
    "# a. Find no. of rows & columns in the dataset\n",
    "df_1= df.copy()\n",
    "print(f'No. of rows in dataset : {df_1.shape[0]}') # no. of rows\n",
    "print(f'\\nNo. of columns in dataset : {df_1.shape[1]}') # no. of columns"
   ]
  },
  {
   "cell_type": "code",
   "execution_count": null,
   "metadata": {},
   "outputs": [],
   "source": [
    "# b. Data types of columns.\n",
    "print(f'Datatype of columns\\n{df_1.dtypes}')"
   ]
  },
  {
   "cell_type": "code",
   "execution_count": null,
   "metadata": {},
   "outputs": [],
   "source": [
    "# solution2\n",
    "for i in df_1.columns:\n",
    "    print (f\"{i} = {np.dtype(df_1[i])}\\n\")"
   ]
  },
  {
   "cell_type": "code",
   "execution_count": null,
   "metadata": {},
   "outputs": [],
   "source": [
    "# c. Info & describe of data in dataframe.\n",
    "print(f'Info of the Dataset{df_1.info()}')\n",
    "print(f'\\nDescription of the Dataset\\n{df_1.describe(include=\"all\")}')"
   ]
  },
  {
   "attachments": {},
   "cell_type": "markdown",
   "metadata": {},
   "source": [
    "3. Low Level Data Understanding :\n",
    "a. Find count of unique values in location column.\n",
    "b. Find which continent has maximum frequency using values\n",
    "counts.\n",
    "c. Find maximum & mean value in 'total_cases'.\n",
    "d. Find 25%,50% & 75% quartile value in 'total_deaths'.\n",
    "e. Find which continent has maximum\n",
    "'human_development_index'.\n",
    "f. Find which continent has minimum 'gdp_per_capita'"
   ]
  },
  {
   "cell_type": "code",
   "execution_count": null,
   "metadata": {},
   "outputs": [],
   "source": [
    "# a. Find count of unique values in location column.\n",
    "df_3 = df.copy()\n",
    "print(f\"count of uniquie values in location column is {len(df_3['location'].value_counts())}\")"
   ]
  },
  {
   "cell_type": "code",
   "execution_count": null,
   "metadata": {},
   "outputs": [],
   "source": [
    "# b. Find which continent has maximum frequency using values counts.\n",
    "print(f\"\\ncontinent having maximum frequency is {df_3['continent'].value_counts().idxmax()}\")"
   ]
  },
  {
   "cell_type": "code",
   "execution_count": null,
   "metadata": {},
   "outputs": [],
   "source": [
    "# c. Find maximum & mean value in 'total_cases'.\n",
    "print('the maximum value in total cases is',df_3['total_cases'].max())\n",
    "print('\\nthe mean value in total_cases is',round(df_3['total_cases'].mean(),2))"
   ]
  },
  {
   "cell_type": "code",
   "execution_count": null,
   "metadata": {},
   "outputs": [],
   "source": [
    "# d. Find 25%,50% & 75% quartile value in 'total_deaths'.\n",
    "print(df_3['total_deaths'].quantile([0.25,0.5,0.75]))"
   ]
  },
  {
   "cell_type": "code",
   "execution_count": null,
   "metadata": {},
   "outputs": [],
   "source": [
    "# Solution2\n",
    "print(f\"25% of total_death_values : {df_3['total_deaths'].quantile(q=.25)}\")\n",
    "print(f\"50% of total_death_values : {df_3['total_deaths'].quantile(q=.5)}\")\n",
    "print(f\"75% of total_death_values : {df_3['total_deaths'].quantile(q=.75)}\")"
   ]
  },
  {
   "cell_type": "code",
   "execution_count": null,
   "metadata": {},
   "outputs": [],
   "source": [
    "# e.Find which continent has maximum'human_development_index'.\n",
    "print(df_3.groupby('continent')['human_development_index'].max().idxmax())"
   ]
  },
  {
   "cell_type": "code",
   "execution_count": null,
   "metadata": {},
   "outputs": [],
   "source": [
    "# solution2\n",
    "print(df_3.groupby('continent')['human_development_index'].max().sort_values().tail(1))"
   ]
  },
  {
   "cell_type": "code",
   "execution_count": null,
   "metadata": {},
   "outputs": [],
   "source": [
    "# solution3\n",
    "print(df_3.groupby('continent')['human_development_index'].max().sort_values(ascending=False).head(1))"
   ]
  },
  {
   "cell_type": "code",
   "execution_count": null,
   "metadata": {},
   "outputs": [],
   "source": [
    "# f. Find which continent has minimum 'gdp_per_capita'\n",
    "print(df_3.groupby('continent')['gdp_per_capita'].min().idxmin())"
   ]
  },
  {
   "cell_type": "code",
   "execution_count": null,
   "metadata": {},
   "outputs": [],
   "source": [
    "# solution2\n",
    "print(df_3.groupby('continent')['gdp_per_capita'].min().sort_values().head(1))"
   ]
  },
  {
   "cell_type": "code",
   "execution_count": null,
   "metadata": {},
   "outputs": [],
   "source": [
    "# solution3\n",
    "print(df_3.groupby('continent')['gdp_per_capita'].min().sort_values(ascending=False).tail(1))"
   ]
  },
  {
   "attachments": {},
   "cell_type": "markdown",
   "metadata": {},
   "source": [
    "4. Filter the dataframe with only this columns\n",
    "['continent','location','date','total_cases','total_deaths''gdp_per_capita','human_development_index'] \n",
    "and update the data frame."
   ]
  },
  {
   "cell_type": "code",
   "execution_count": null,
   "metadata": {},
   "outputs": [],
   "source": [
    "df_4 = df.copy()"
   ]
  },
  {
   "cell_type": "code",
   "execution_count": null,
   "metadata": {},
   "outputs": [],
   "source": [
    "# filtering values where continrnt is asia and total_death_cases greater than 5000\n",
    "print(df_4[(df_4['continent']=='Asia')&(df_4['total_deaths']>5000)])"
   ]
  },
  {
   "cell_type": "code",
   "execution_count": null,
   "metadata": {},
   "outputs": [],
   "source": [
    "# filtering data where gdp_per_capita is greater than 1500 and human_development_index is maximum\n",
    "print(df_4[(df_4['gdp_per_capita']>1500) & (df_4['human_development_index']==max(df_4['human_development_index']))])\n"
   ]
  },
  {
   "cell_type": "code",
   "execution_count": null,
   "metadata": {},
   "outputs": [],
   "source": [
    "# filtering data where continents are asia and africa with notnull values and location starts with C.\n",
    "print (df_4.query(\"continent.isin(['Asia','Africa']).notnull() and location.str.startswith('C')\"))"
   ]
  },
  {
   "cell_type": "code",
   "execution_count": null,
   "metadata": {},
   "outputs": [],
   "source": [
    "# filtering dataset where total_cases equals to total_deaths\n",
    "print(df_4[df_4['total_cases']==df_4['total_deaths']])"
   ]
  },
  {
   "cell_type": "code",
   "execution_count": null,
   "metadata": {},
   "outputs": [],
   "source": [
    "print(df_4.sort_values(by=['continent','location','total_deaths']).nsmallest(5,['human_development_index']))"
   ]
  },
  {
   "cell_type": "code",
   "execution_count": null,
   "metadata": {},
   "outputs": [],
   "source": []
  },
  {
   "attachments": {},
   "cell_type": "markdown",
   "metadata": {},
   "source": [
    "5. Data Cleaning\n",
    "a. Remove all duplicates observations\n",
    "b. Find missing values in all columns\n",
    "c. Remove all observations where continent column value is missing\n",
    "Tip : using subset parameter in dropna\n",
    "d. Fill all missing values with 0"
   ]
  },
  {
   "cell_type": "code",
   "execution_count": null,
   "metadata": {},
   "outputs": [],
   "source": [
    "# a. Remove all duplicates observations\n",
    "df_5 = df.copy()\n",
    "df_5=df_5.drop_duplicates()\n",
    "print(df_5)\n",
    "df_5.shape"
   ]
  },
  {
   "cell_type": "code",
   "execution_count": null,
   "metadata": {},
   "outputs": [],
   "source": [
    "# b. Find missing values in all columns\n",
    "df_missing = df.copy()\n",
    "print(f\"missing values in all columns\\n{df_missing.isna().sum()}\")"
   ]
  },
  {
   "cell_type": "code",
   "execution_count": null,
   "metadata": {},
   "outputs": [],
   "source": [
    "# solution2\n",
    "print(f\"missing values in all columns\\n{df_missing.isnull().sum()}\")"
   ]
  },
  {
   "cell_type": "code",
   "execution_count": 415,
   "metadata": {},
   "outputs": [
    {
     "name": "stdout",
     "output_type": "stream",
     "text": [
      "after removing all observations where continent column value is missing\n",
      "      iso_code continent     location      date  total_cases  new_cases  \\\n",
      "0          AFG      Asia  Afghanistan  31/12/19          NaN        0.0   \n",
      "1          AFG      Asia  Afghanistan  01/01/20          NaN        0.0   \n",
      "2          AFG      Asia  Afghanistan  02/01/20          NaN        0.0   \n",
      "3          AFG      Asia  Afghanistan  03/01/20          NaN        0.0   \n",
      "4          AFG      Asia  Afghanistan  04/01/20          NaN        0.0   \n",
      "...        ...       ...          ...       ...          ...        ...   \n",
      "56743      ZWE    Africa     Zimbabwe  13/11/20       8696.0       29.0   \n",
      "56744      ZWE    Africa     Zimbabwe  14/11/20       8765.0       69.0   \n",
      "56745      ZWE    Africa     Zimbabwe  15/11/20       8786.0       21.0   \n",
      "56746      ZWE    Africa     Zimbabwe  16/11/20       8786.0        0.0   \n",
      "56747      ZWE    Africa     Zimbabwe  17/11/20       8897.0      111.0   \n",
      "\n",
      "       new_cases_smoothed  total_deaths  new_deaths  new_deaths_smoothed  ...  \\\n",
      "0                     NaN           NaN         0.0                  NaN  ...   \n",
      "1                     NaN           NaN         0.0                  NaN  ...   \n",
      "2                     NaN           NaN         0.0                  NaN  ...   \n",
      "3                     NaN           NaN         0.0                  NaN  ...   \n",
      "4                     NaN           NaN         0.0                  NaN  ...   \n",
      "...                   ...           ...         ...                  ...  ...   \n",
      "56743              36.000         255.0         0.0                1.000  ...   \n",
      "56744              42.000         257.0         2.0                1.000  ...   \n",
      "56745              41.143         257.0         0.0                0.857  ...   \n",
      "56746              36.429         257.0         0.0                0.571  ...   \n",
      "56747              48.000         257.0         0.0                0.429  ...   \n",
      "\n",
      "       gdp_per_capita  extreme_poverty  cardiovasc_death_rate  \\\n",
      "0            1803.987              NaN                597.029   \n",
      "1            1803.987              NaN                597.029   \n",
      "2            1803.987              NaN                597.029   \n",
      "3            1803.987              NaN                597.029   \n",
      "4            1803.987              NaN                597.029   \n",
      "...               ...              ...                    ...   \n",
      "56743        1899.775             21.4                307.846   \n",
      "56744        1899.775             21.4                307.846   \n",
      "56745        1899.775             21.4                307.846   \n",
      "56746        1899.775             21.4                307.846   \n",
      "56747        1899.775             21.4                307.846   \n",
      "\n",
      "       diabetes_prevalence  female_smokers  male_smokers  \\\n",
      "0                     9.59             NaN           NaN   \n",
      "1                     9.59             NaN           NaN   \n",
      "2                     9.59             NaN           NaN   \n",
      "3                     9.59             NaN           NaN   \n",
      "4                     9.59             NaN           NaN   \n",
      "...                    ...             ...           ...   \n",
      "56743                 1.82             1.6          30.7   \n",
      "56744                 1.82             1.6          30.7   \n",
      "56745                 1.82             1.6          30.7   \n",
      "56746                 1.82             1.6          30.7   \n",
      "56747                 1.82             1.6          30.7   \n",
      "\n",
      "       handwashing_facilities  hospital_beds_per_thousand  life_expectancy  \\\n",
      "0                      37.746                         0.5            64.83   \n",
      "1                      37.746                         0.5            64.83   \n",
      "2                      37.746                         0.5            64.83   \n",
      "3                      37.746                         0.5            64.83   \n",
      "4                      37.746                         0.5            64.83   \n",
      "...                       ...                         ...              ...   \n",
      "56743                  36.791                         1.7            61.49   \n",
      "56744                  36.791                         1.7            61.49   \n",
      "56745                  36.791                         1.7            61.49   \n",
      "56746                  36.791                         1.7            61.49   \n",
      "56747                  36.791                         1.7            61.49   \n",
      "\n",
      "       human_development_index  \n",
      "0                        0.498  \n",
      "1                        0.498  \n",
      "2                        0.498  \n",
      "3                        0.498  \n",
      "4                        0.498  \n",
      "...                        ...  \n",
      "56743                    0.535  \n",
      "56744                    0.535  \n",
      "56745                    0.535  \n",
      "56746                    0.535  \n",
      "56747                    0.535  \n",
      "\n",
      "[56748 rows x 49 columns]\n"
     ]
    }
   ],
   "source": [
    "# c. Remove all observations where continent column value is missing\n",
    "df_remove_dup = df.copy()\n",
    "df_remove_dup = df_remove_dup.dropna(how='all',subset='continent')\n",
    "print(f\"after removing all observations where continent column value is missing\\n{df_remove_dup}\")"
   ]
  },
  {
   "cell_type": "code",
   "execution_count": 416,
   "metadata": {},
   "outputs": [
    {
     "name": "stdout",
     "output_type": "stream",
     "text": [
      "after filling null values with 0\n",
      "      iso_code continent       location      date  total_cases  new_cases  \\\n",
      "0          AFG      Asia    Afghanistan  31/12/19          0.0        0.0   \n",
      "1          AFG      Asia    Afghanistan  01/01/20          0.0        0.0   \n",
      "2          AFG      Asia    Afghanistan  02/01/20          0.0        0.0   \n",
      "3          AFG      Asia    Afghanistan  03/01/20          0.0        0.0   \n",
      "4          AFG      Asia    Afghanistan  04/01/20          0.0        0.0   \n",
      "...        ...       ...            ...       ...          ...        ...   \n",
      "57389        0         0  International  13/11/20        696.0        0.0   \n",
      "57390        0         0  International  14/11/20        696.0        0.0   \n",
      "57391        0         0  International  15/11/20        696.0        0.0   \n",
      "57392        0         0  International  16/11/20        696.0        0.0   \n",
      "57393        0         0  International  17/11/20        696.0        0.0   \n",
      "\n",
      "       new_cases_smoothed  total_deaths  new_deaths  new_deaths_smoothed  ...  \\\n",
      "0                     0.0           0.0         0.0                  0.0  ...   \n",
      "1                     0.0           0.0         0.0                  0.0  ...   \n",
      "2                     0.0           0.0         0.0                  0.0  ...   \n",
      "3                     0.0           0.0         0.0                  0.0  ...   \n",
      "4                     0.0           0.0         0.0                  0.0  ...   \n",
      "...                   ...           ...         ...                  ...  ...   \n",
      "57389                 0.0           7.0         0.0                  0.0  ...   \n",
      "57390                 0.0           7.0         0.0                  0.0  ...   \n",
      "57391                 0.0           7.0         0.0                  0.0  ...   \n",
      "57392                 0.0           7.0         0.0                  0.0  ...   \n",
      "57393                 0.0           7.0         0.0                  0.0  ...   \n",
      "\n",
      "       gdp_per_capita  extreme_poverty  cardiovasc_death_rate  \\\n",
      "0            1803.987              0.0                597.029   \n",
      "1            1803.987              0.0                597.029   \n",
      "2            1803.987              0.0                597.029   \n",
      "3            1803.987              0.0                597.029   \n",
      "4            1803.987              0.0                597.029   \n",
      "...               ...              ...                    ...   \n",
      "57389           0.000              0.0                  0.000   \n",
      "57390           0.000              0.0                  0.000   \n",
      "57391           0.000              0.0                  0.000   \n",
      "57392           0.000              0.0                  0.000   \n",
      "57393           0.000              0.0                  0.000   \n",
      "\n",
      "       diabetes_prevalence  female_smokers  male_smokers  \\\n",
      "0                     9.59             0.0           0.0   \n",
      "1                     9.59             0.0           0.0   \n",
      "2                     9.59             0.0           0.0   \n",
      "3                     9.59             0.0           0.0   \n",
      "4                     9.59             0.0           0.0   \n",
      "...                    ...             ...           ...   \n",
      "57389                 0.00             0.0           0.0   \n",
      "57390                 0.00             0.0           0.0   \n",
      "57391                 0.00             0.0           0.0   \n",
      "57392                 0.00             0.0           0.0   \n",
      "57393                 0.00             0.0           0.0   \n",
      "\n",
      "       handwashing_facilities  hospital_beds_per_thousand  life_expectancy  \\\n",
      "0                      37.746                         0.5            64.83   \n",
      "1                      37.746                         0.5            64.83   \n",
      "2                      37.746                         0.5            64.83   \n",
      "3                      37.746                         0.5            64.83   \n",
      "4                      37.746                         0.5            64.83   \n",
      "...                       ...                         ...              ...   \n",
      "57389                   0.000                         0.0             0.00   \n",
      "57390                   0.000                         0.0             0.00   \n",
      "57391                   0.000                         0.0             0.00   \n",
      "57392                   0.000                         0.0             0.00   \n",
      "57393                   0.000                         0.0             0.00   \n",
      "\n",
      "       human_development_index  \n",
      "0                        0.498  \n",
      "1                        0.498  \n",
      "2                        0.498  \n",
      "3                        0.498  \n",
      "4                        0.498  \n",
      "...                        ...  \n",
      "57389                    0.000  \n",
      "57390                    0.000  \n",
      "57391                    0.000  \n",
      "57392                    0.000  \n",
      "57393                    0.000  \n",
      "\n",
      "[57394 rows x 49 columns]\n"
     ]
    }
   ],
   "source": [
    "# d. Fill all missing values with 0\n",
    "df_fill = df.copy()\n",
    "df_fill=df_fill.fillna(0)\n",
    "print(f\"after filling null values with 0\\n{df_fill}\")"
   ]
  },
  {
   "attachments": {},
   "cell_type": "markdown",
   "metadata": {},
   "source": [
    "6. Date time format :\n",
    "a. Convert date column in datetime format using\n",
    "pandas.to_datetime\n",
    "b. Create new column month after extracting month data from date colum"
   ]
  },
  {
   "cell_type": "code",
   "execution_count": 417,
   "metadata": {},
   "outputs": [
    {
     "name": "stdout",
     "output_type": "stream",
     "text": [
      "datetime64[ns]\n"
     ]
    }
   ],
   "source": [
    "# a. Convert date column in datetime format using pandas.to_datetime\n",
    "df_date = df.copy()\n",
    "df_date['date'] = pd.to_datetime(df_date['date'])\n",
    "print(df_date['date'].dtype)"
   ]
  },
  {
   "cell_type": "code",
   "execution_count": 418,
   "metadata": {},
   "outputs": [
    {
     "name": "stdout",
     "output_type": "stream",
     "text": [
      "  iso_code continent     location       date  total_cases  new_cases  \\\n",
      "0      AFG      Asia  Afghanistan 2019-12-31          NaN        0.0   \n",
      "1      AFG      Asia  Afghanistan 2020-01-01          NaN        0.0   \n",
      "2      AFG      Asia  Afghanistan 2020-02-01          NaN        0.0   \n",
      "3      AFG      Asia  Afghanistan 2020-03-01          NaN        0.0   \n",
      "4      AFG      Asia  Afghanistan 2020-04-01          NaN        0.0   \n",
      "\n",
      "   new_cases_smoothed  total_deaths  new_deaths  new_deaths_smoothed  ...  \\\n",
      "0                 NaN           NaN         0.0                  NaN  ...   \n",
      "1                 NaN           NaN         0.0                  NaN  ...   \n",
      "2                 NaN           NaN         0.0                  NaN  ...   \n",
      "3                 NaN           NaN         0.0                  NaN  ...   \n",
      "4                 NaN           NaN         0.0                  NaN  ...   \n",
      "\n",
      "   extreme_poverty  cardiovasc_death_rate  diabetes_prevalence  \\\n",
      "0              NaN                597.029                 9.59   \n",
      "1              NaN                597.029                 9.59   \n",
      "2              NaN                597.029                 9.59   \n",
      "3              NaN                597.029                 9.59   \n",
      "4              NaN                597.029                 9.59   \n",
      "\n",
      "   female_smokers  male_smokers  handwashing_facilities  \\\n",
      "0             NaN           NaN                  37.746   \n",
      "1             NaN           NaN                  37.746   \n",
      "2             NaN           NaN                  37.746   \n",
      "3             NaN           NaN                  37.746   \n",
      "4             NaN           NaN                  37.746   \n",
      "\n",
      "   hospital_beds_per_thousand  life_expectancy  human_development_index  month  \n",
      "0                         0.5            64.83                    0.498     12  \n",
      "1                         0.5            64.83                    0.498      1  \n",
      "2                         0.5            64.83                    0.498      2  \n",
      "3                         0.5            64.83                    0.498      3  \n",
      "4                         0.5            64.83                    0.498      4  \n",
      "\n",
      "[5 rows x 50 columns]\n"
     ]
    }
   ],
   "source": [
    "# b. Create new column month after extracting month data from date column\n",
    "df_date['month']=df_date['date'].dt.month\n",
    "print(df_date.head())"
   ]
  },
  {
   "attachments": {},
   "cell_type": "markdown",
   "metadata": {},
   "source": [
    "7. Data Aggregation:\n",
    "a. Find max value in all columns using groupby function on\n",
    "'continent'\n",
    "column\n",
    "Tip: use reset_index() after applying groupby\n",
    "b. Store the result in a new dataframe named 'df_groupby'.\n",
    "(Use df_groupby dataframe for all further analysis)"
   ]
  },
  {
   "cell_type": "code",
   "execution_count": 447,
   "metadata": {},
   "outputs": [
    {
     "name": "stdout",
     "output_type": "stream",
     "text": [
      "max value in all columns via continent\n",
      "continent                             South America\n",
      "iso_code                                        ZWE\n",
      "location                                   Zimbabwe\n",
      "date                                       31/12/19\n",
      "total_cases                              11205486.0\n",
      "new_cases                                  184813.0\n",
      "new_cases_smoothed                       156419.143\n",
      "total_deaths                               247220.0\n",
      "new_deaths                                   4928.0\n",
      "new_deaths_smoothed                        2715.143\n",
      "total_cases_per_million                   76541.772\n",
      "new_cases_per_million                      8652.658\n",
      "new_cases_smoothed_per_million             2472.188\n",
      "total_deaths_per_million                   1248.014\n",
      "new_deaths_per_million                      215.382\n",
      "new_deaths_smoothed_per_million               63.14\n",
      "reproduction_rate                              6.72\n",
      "icu_patients                                15130.0\n",
      "icu_patients_per_million                    126.838\n",
      "hosp_patients                               65368.0\n",
      "hosp_patients_per_million                   773.463\n",
      "weekly_icu_admissions                      4375.407\n",
      "weekly_icu_admissions_per_million            192.21\n",
      "weekly_hosp_admissions                     46641.41\n",
      "weekly_hosp_admissions_per_million         2424.482\n",
      "total_tests                             166039068.0\n",
      "new_tests                                 1531394.0\n",
      "total_tests_per_thousand                   1926.641\n",
      "new_tests_per_thousand                       26.071\n",
      "new_tests_smoothed                        1296553.0\n",
      "new_tests_smoothed_per_thousand              19.172\n",
      "tests_per_case                              45864.0\n",
      "positive_rate                                 0.651\n",
      "stringency_index                              100.0\n",
      "population                             1439323774.0\n",
      "population_density                          19347.5\n",
      "median_age                                     48.2\n",
      "aged_65_older                                27.049\n",
      "aged_70_older                                18.493\n",
      "gdp_per_capita                             116935.6\n",
      "extreme_poverty                                77.6\n",
      "cardiovasc_death_rate                       724.417\n",
      "diabetes_prevalence                           30.53\n",
      "female_smokers                                 44.0\n",
      "male_smokers                                   78.1\n",
      "handwashing_facilities                       98.999\n",
      "hospital_beds_per_thousand                     13.8\n",
      "life_expectancy                               86.75\n",
      "human_development_index                       0.953\n",
      "dtype: object\n"
     ]
    }
   ],
   "source": [
    "# a. Find max value in all columns using groupby function on 'continent'\n",
    "df_agg= df.copy()\n",
    "df_agg=df_agg.groupby(by='continent').max().reset_index().max()\n",
    "print(f\"max value in all columns via continent\\n{df_agg}\")"
   ]
  },
  {
   "cell_type": "code",
   "execution_count": null,
   "metadata": {},
   "outputs": [],
   "source": []
  },
  {
   "cell_type": "code",
   "execution_count": 448,
   "metadata": {},
   "outputs": [
    {
     "data": {
      "text/plain": [
       "continent                             South America\n",
       "iso_code                                        DZA\n",
       "location                                  Australia\n",
       "date                                       31/12/19\n",
       "total_cases                                     2.0\n",
       "new_cases                                       2.0\n",
       "new_cases_smoothed                              NaN\n",
       "total_deaths                                    NaN\n",
       "new_deaths                                      0.0\n",
       "new_deaths_smoothed                             NaN\n",
       "total_cases_per_million                     133.316\n",
       "new_cases_per_million                       133.316\n",
       "new_cases_smoothed_per_million                  NaN\n",
       "total_deaths_per_million                        NaN\n",
       "new_deaths_per_million                          0.0\n",
       "new_deaths_smoothed_per_million                 NaN\n",
       "reproduction_rate                               NaN\n",
       "icu_patients                                    NaN\n",
       "icu_patients_per_million                        NaN\n",
       "hosp_patients                                   NaN\n",
       "hosp_patients_per_million                       NaN\n",
       "weekly_icu_admissions                           NaN\n",
       "weekly_icu_admissions_per_million               NaN\n",
       "weekly_hosp_admissions                          NaN\n",
       "weekly_hosp_admissions_per_million              NaN\n",
       "total_tests                                     NaN\n",
       "new_tests                                       NaN\n",
       "total_tests_per_thousand                        NaN\n",
       "new_tests_per_thousand                          NaN\n",
       "new_tests_smoothed                              NaN\n",
       "new_tests_smoothed_per_thousand                 NaN\n",
       "tests_per_case                                  NaN\n",
       "positive_rate                                   NaN\n",
       "stringency_index                               71.3\n",
       "population                               45195777.0\n",
       "population_density                          104.871\n",
       "median_age                                     38.0\n",
       "aged_65_older                                15.504\n",
       "aged_70_older                                10.129\n",
       "gdp_per_capita                             44648.71\n",
       "extreme_poverty                                 1.1\n",
       "cardiovasc_death_rate                       597.029\n",
       "diabetes_prevalence                           10.08\n",
       "female_smokers                                 16.2\n",
       "male_smokers                                   51.2\n",
       "handwashing_facilities                       83.741\n",
       "hospital_beds_per_thousand                      5.0\n",
       "life_expectancy                               83.44\n",
       "human_development_index                       0.939\n",
       "dtype: object"
      ]
     },
     "metadata": {},
     "output_type": "display_data"
    }
   ],
   "source": [
    "# b. Store the result in a new dataframe named 'df_groupby'.(Use df_groupby dataframe for all further analysis)\n",
    "df_groupby=df_1.groupby('continent').max().reset_index().max()\n",
    "display(df_groupby)"
   ]
  },
  {
   "attachments": {},
   "cell_type": "markdown",
   "metadata": {},
   "source": [
    "8. Feature Engineering :\n",
    "a. Create a new feature 'total_deaths_to_total_cases' by ratio of\n",
    "'total_deaths' column to 'total_cases'"
   ]
  },
  {
   "cell_type": "code",
   "execution_count": 437,
   "metadata": {},
   "outputs": [
    {
     "data": {
      "text/html": [
       "<div>\n",
       "<style scoped>\n",
       "    .dataframe tbody tr th:only-of-type {\n",
       "        vertical-align: middle;\n",
       "    }\n",
       "\n",
       "    .dataframe tbody tr th {\n",
       "        vertical-align: top;\n",
       "    }\n",
       "\n",
       "    .dataframe thead th {\n",
       "        text-align: right;\n",
       "    }\n",
       "</style>\n",
       "<table border=\"1\" class=\"dataframe\">\n",
       "  <thead>\n",
       "    <tr style=\"text-align: right;\">\n",
       "      <th></th>\n",
       "      <th>iso_code</th>\n",
       "      <th>continent</th>\n",
       "      <th>location</th>\n",
       "      <th>date</th>\n",
       "      <th>total_cases</th>\n",
       "      <th>new_cases</th>\n",
       "      <th>new_cases_smoothed</th>\n",
       "      <th>total_deaths</th>\n",
       "      <th>new_deaths</th>\n",
       "      <th>new_deaths_smoothed</th>\n",
       "      <th>...</th>\n",
       "      <th>extreme_poverty</th>\n",
       "      <th>cardiovasc_death_rate</th>\n",
       "      <th>diabetes_prevalence</th>\n",
       "      <th>female_smokers</th>\n",
       "      <th>male_smokers</th>\n",
       "      <th>handwashing_facilities</th>\n",
       "      <th>hospital_beds_per_thousand</th>\n",
       "      <th>life_expectancy</th>\n",
       "      <th>human_development_index</th>\n",
       "      <th>total_deaths_to_total_cases</th>\n",
       "    </tr>\n",
       "  </thead>\n",
       "  <tbody>\n",
       "    <tr>\n",
       "      <th>0</th>\n",
       "      <td>AFG</td>\n",
       "      <td>Asia</td>\n",
       "      <td>Afghanistan</td>\n",
       "      <td>31/12/19</td>\n",
       "      <td>NaN</td>\n",
       "      <td>0.0</td>\n",
       "      <td>NaN</td>\n",
       "      <td>NaN</td>\n",
       "      <td>0.0</td>\n",
       "      <td>NaN</td>\n",
       "      <td>...</td>\n",
       "      <td>NaN</td>\n",
       "      <td>597.029</td>\n",
       "      <td>9.59</td>\n",
       "      <td>NaN</td>\n",
       "      <td>NaN</td>\n",
       "      <td>37.746</td>\n",
       "      <td>0.5</td>\n",
       "      <td>64.83</td>\n",
       "      <td>0.498</td>\n",
       "      <td>NaN</td>\n",
       "    </tr>\n",
       "    <tr>\n",
       "      <th>1</th>\n",
       "      <td>AFG</td>\n",
       "      <td>Asia</td>\n",
       "      <td>Afghanistan</td>\n",
       "      <td>01/01/20</td>\n",
       "      <td>NaN</td>\n",
       "      <td>0.0</td>\n",
       "      <td>NaN</td>\n",
       "      <td>NaN</td>\n",
       "      <td>0.0</td>\n",
       "      <td>NaN</td>\n",
       "      <td>...</td>\n",
       "      <td>NaN</td>\n",
       "      <td>597.029</td>\n",
       "      <td>9.59</td>\n",
       "      <td>NaN</td>\n",
       "      <td>NaN</td>\n",
       "      <td>37.746</td>\n",
       "      <td>0.5</td>\n",
       "      <td>64.83</td>\n",
       "      <td>0.498</td>\n",
       "      <td>NaN</td>\n",
       "    </tr>\n",
       "    <tr>\n",
       "      <th>2</th>\n",
       "      <td>AFG</td>\n",
       "      <td>Asia</td>\n",
       "      <td>Afghanistan</td>\n",
       "      <td>02/01/20</td>\n",
       "      <td>NaN</td>\n",
       "      <td>0.0</td>\n",
       "      <td>NaN</td>\n",
       "      <td>NaN</td>\n",
       "      <td>0.0</td>\n",
       "      <td>NaN</td>\n",
       "      <td>...</td>\n",
       "      <td>NaN</td>\n",
       "      <td>597.029</td>\n",
       "      <td>9.59</td>\n",
       "      <td>NaN</td>\n",
       "      <td>NaN</td>\n",
       "      <td>37.746</td>\n",
       "      <td>0.5</td>\n",
       "      <td>64.83</td>\n",
       "      <td>0.498</td>\n",
       "      <td>NaN</td>\n",
       "    </tr>\n",
       "    <tr>\n",
       "      <th>3</th>\n",
       "      <td>AFG</td>\n",
       "      <td>Asia</td>\n",
       "      <td>Afghanistan</td>\n",
       "      <td>03/01/20</td>\n",
       "      <td>NaN</td>\n",
       "      <td>0.0</td>\n",
       "      <td>NaN</td>\n",
       "      <td>NaN</td>\n",
       "      <td>0.0</td>\n",
       "      <td>NaN</td>\n",
       "      <td>...</td>\n",
       "      <td>NaN</td>\n",
       "      <td>597.029</td>\n",
       "      <td>9.59</td>\n",
       "      <td>NaN</td>\n",
       "      <td>NaN</td>\n",
       "      <td>37.746</td>\n",
       "      <td>0.5</td>\n",
       "      <td>64.83</td>\n",
       "      <td>0.498</td>\n",
       "      <td>NaN</td>\n",
       "    </tr>\n",
       "    <tr>\n",
       "      <th>4</th>\n",
       "      <td>AFG</td>\n",
       "      <td>Asia</td>\n",
       "      <td>Afghanistan</td>\n",
       "      <td>04/01/20</td>\n",
       "      <td>NaN</td>\n",
       "      <td>0.0</td>\n",
       "      <td>NaN</td>\n",
       "      <td>NaN</td>\n",
       "      <td>0.0</td>\n",
       "      <td>NaN</td>\n",
       "      <td>...</td>\n",
       "      <td>NaN</td>\n",
       "      <td>597.029</td>\n",
       "      <td>9.59</td>\n",
       "      <td>NaN</td>\n",
       "      <td>NaN</td>\n",
       "      <td>37.746</td>\n",
       "      <td>0.5</td>\n",
       "      <td>64.83</td>\n",
       "      <td>0.498</td>\n",
       "      <td>NaN</td>\n",
       "    </tr>\n",
       "  </tbody>\n",
       "</table>\n",
       "<p>5 rows × 50 columns</p>\n",
       "</div>"
      ],
      "text/plain": [
       "  iso_code continent     location      date  total_cases  new_cases  \\\n",
       "0      AFG      Asia  Afghanistan  31/12/19          NaN        0.0   \n",
       "1      AFG      Asia  Afghanistan  01/01/20          NaN        0.0   \n",
       "2      AFG      Asia  Afghanistan  02/01/20          NaN        0.0   \n",
       "3      AFG      Asia  Afghanistan  03/01/20          NaN        0.0   \n",
       "4      AFG      Asia  Afghanistan  04/01/20          NaN        0.0   \n",
       "\n",
       "   new_cases_smoothed  total_deaths  new_deaths  new_deaths_smoothed  ...  \\\n",
       "0                 NaN           NaN         0.0                  NaN  ...   \n",
       "1                 NaN           NaN         0.0                  NaN  ...   \n",
       "2                 NaN           NaN         0.0                  NaN  ...   \n",
       "3                 NaN           NaN         0.0                  NaN  ...   \n",
       "4                 NaN           NaN         0.0                  NaN  ...   \n",
       "\n",
       "   extreme_poverty  cardiovasc_death_rate  diabetes_prevalence  \\\n",
       "0              NaN                597.029                 9.59   \n",
       "1              NaN                597.029                 9.59   \n",
       "2              NaN                597.029                 9.59   \n",
       "3              NaN                597.029                 9.59   \n",
       "4              NaN                597.029                 9.59   \n",
       "\n",
       "   female_smokers  male_smokers  handwashing_facilities  \\\n",
       "0             NaN           NaN                  37.746   \n",
       "1             NaN           NaN                  37.746   \n",
       "2             NaN           NaN                  37.746   \n",
       "3             NaN           NaN                  37.746   \n",
       "4             NaN           NaN                  37.746   \n",
       "\n",
       "   hospital_beds_per_thousand  life_expectancy  human_development_index  \\\n",
       "0                         0.5            64.83                    0.498   \n",
       "1                         0.5            64.83                    0.498   \n",
       "2                         0.5            64.83                    0.498   \n",
       "3                         0.5            64.83                    0.498   \n",
       "4                         0.5            64.83                    0.498   \n",
       "\n",
       "   total_deaths_to_total_cases  \n",
       "0                          NaN  \n",
       "1                          NaN  \n",
       "2                          NaN  \n",
       "3                          NaN  \n",
       "4                          NaN  \n",
       "\n",
       "[5 rows x 50 columns]"
      ]
     },
     "execution_count": 437,
     "metadata": {},
     "output_type": "execute_result"
    }
   ],
   "source": [
    "# a. Create a new feature 'total_deaths_to_total_cases' by ratio of'total_deaths' column to 'total_cases'\n",
    "df_new=df.copy()\n",
    "df_new['total_deaths_to_total_cases']=(df_new['total_deaths']/df_new['total_cases'])\n",
    "df_new.head()"
   ]
  },
  {
   "cell_type": "code",
   "execution_count": null,
   "metadata": {},
   "outputs": [],
   "source": [
    "df_1['total_deaths_to_total_cases']=(df_1['total_deaths']/df['total_cases'])"
   ]
  },
  {
   "cell_type": "code",
   "execution_count": null,
   "metadata": {},
   "outputs": [],
   "source": [
    "df_1['total_deaths_to_total_cases']"
   ]
  },
  {
   "attachments": {},
   "cell_type": "markdown",
   "metadata": {},
   "source": [
    "9. Data Visualization :\n",
    "a. Perform Univariate analysis on 'gdp_per_capita' column by plotting histogram using seaborn dist plot.\n",
    "b. Plot a scatter plot of 'total_cases' & 'gdp_per_capita'\n",
    "c. Plot Pairplot on df_groupby dataset.\n",
    "d. Plot a bar plot of 'continent' column with 'total_cases' .\n",
    "Tip : using kind='bar' in seaborn catplot"
   ]
  },
  {
   "cell_type": "code",
   "execution_count": 449,
   "metadata": {},
   "outputs": [
    {
     "name": "stderr",
     "output_type": "stream",
     "text": [
      "C:\\Users\\BIKASH\\AppData\\Local\\Temp\\ipykernel_3320\\2381501448.py:4: UserWarning: \n",
      "\n",
      "`distplot` is a deprecated function and will be removed in seaborn v0.14.0.\n",
      "\n",
      "Please adapt your code to use either `displot` (a figure-level function with\n",
      "similar flexibility) or `histplot` (an axes-level function for histograms).\n",
      "\n",
      "For a guide to updating your code to use the new functions, please see\n",
      "https://gist.github.com/mwaskom/de44147ed2974457ad6372750bbe5751\n",
      "\n",
      "  sns.distplot(x=df['gdp_per_capita'],label=\"GDP_Per_Capita\",color=\"blue\",)\n"
     ]
    },
    {
     "data": {
      "text/plain": [
       "<matplotlib.legend.Legend at 0x16aec6b2e10>"
      ]
     },
     "execution_count": 449,
     "metadata": {},
     "output_type": "execute_result"
    },
    {
     "data": {
      "image/png": "[encoded data removed]",
      "text/plain": [
       "<Figure size 1000x1000 with 1 Axes>"
      ]
     },
     "metadata": {},
     "output_type": "display_data"
    }
   ],
   "source": [
    "# a. Perform Univariate analysis on 'gdp_per_capita' column by plotting histogram using seaborn dist plot.\n",
    "plt.figure(figsize=(10,10))\n",
    "sns.set()\n",
    "sns.distplot(x=df['gdp_per_capita'],label=\"GDP_Per_Capita\",color=\"blue\",)\n",
    "plt.title('Histogram of GDP_Per_Capita')\n",
    "plt.legend()\n"
   ]
  },
  {
   "cell_type": "code",
   "execution_count": 451,
   "metadata": {},
   "outputs": [
    {
     "data": {
      "image/png": "[encoded data removed]",
      "text/plain": [
       "<Figure size 1600x900 with 1 Axes>"
      ]
     },
     "metadata": {},
     "output_type": "display_data"
    }
   ],
   "source": [
    "# b. Plot a scatter plot of 'total_cases' & 'gdp_per_capita'\n",
    "plt.figure(figsize=(16,9))\n",
    "sns.set()\n",
    "sns.scatterplot(x=df['total_cases'], y=df['gdp_per_capita'], c='r',s=100, edgecolor = 'g', linewidth = 25,)\n",
    "plt.xlabel('Total Cases',)\n",
    "plt.ylabel('GDP_Per_Capita')\n",
    "plt.title('Total Cases Upon GDP_Per_Capita')\n",
    "plt.show()\n"
   ]
  },
  {
   "cell_type": "code",
   "execution_count": 452,
   "metadata": {},
   "outputs": [
    {
     "ename": "ValueError",
     "evalue": "No variables found for grid columns.",
     "output_type": "error",
     "traceback": [
      "\u001b[1;31m---------------------------------------------------------------------------\u001b[0m",
      "\u001b[1;31mValueError\u001b[0m                                Traceback (most recent call last)",
      "Cell \u001b[1;32mIn[452], line 5\u001b[0m\n\u001b[0;32m      3\u001b[0m plt\u001b[39m.\u001b[39mfigure(figsize\u001b[39m=\u001b[39m(\u001b[39m16\u001b[39m,\u001b[39m9\u001b[39m))\n\u001b[0;32m      4\u001b[0m sns\u001b[39m.\u001b[39mset()\n\u001b[1;32m----> 5\u001b[0m sns\u001b[39m.\u001b[39;49mpairplot(df_groupby)\n",
      "File \u001b[1;32mc:\\Users\\BIKASH\\AppData\\Local\\Programs\\Python\\Python311\\Lib\\site-packages\\seaborn\\axisgrid.py:2114\u001b[0m, in \u001b[0;36mpairplot\u001b[1;34m(data, hue, hue_order, palette, vars, x_vars, y_vars, kind, diag_kind, markers, height, aspect, corner, dropna, plot_kws, diag_kws, grid_kws, size)\u001b[0m\n\u001b[0;32m   2112\u001b[0m \u001b[39m# Set up the PairGrid\u001b[39;00m\n\u001b[0;32m   2113\u001b[0m grid_kws\u001b[39m.\u001b[39msetdefault(\u001b[39m\"\u001b[39m\u001b[39mdiag_sharey\u001b[39m\u001b[39m\"\u001b[39m, diag_kind \u001b[39m==\u001b[39m \u001b[39m\"\u001b[39m\u001b[39mhist\u001b[39m\u001b[39m\"\u001b[39m)\n\u001b[1;32m-> 2114\u001b[0m grid \u001b[39m=\u001b[39m PairGrid(data, \u001b[39mvars\u001b[39;49m\u001b[39m=\u001b[39;49m\u001b[39mvars\u001b[39;49m, x_vars\u001b[39m=\u001b[39;49mx_vars, y_vars\u001b[39m=\u001b[39;49my_vars, hue\u001b[39m=\u001b[39;49mhue,\n\u001b[0;32m   2115\u001b[0m                 hue_order\u001b[39m=\u001b[39;49mhue_order, palette\u001b[39m=\u001b[39;49mpalette, corner\u001b[39m=\u001b[39;49mcorner,\n\u001b[0;32m   2116\u001b[0m                 height\u001b[39m=\u001b[39;49mheight, aspect\u001b[39m=\u001b[39;49maspect, dropna\u001b[39m=\u001b[39;49mdropna, \u001b[39m*\u001b[39;49m\u001b[39m*\u001b[39;49mgrid_kws)\n\u001b[0;32m   2118\u001b[0m \u001b[39m# Add the markers here as PairGrid has figured out how many levels of the\u001b[39;00m\n\u001b[0;32m   2119\u001b[0m \u001b[39m# hue variable are needed and we don't want to duplicate that process\u001b[39;00m\n\u001b[0;32m   2120\u001b[0m \u001b[39mif\u001b[39;00m markers \u001b[39mis\u001b[39;00m \u001b[39mnot\u001b[39;00m \u001b[39mNone\u001b[39;00m:\n",
      "File \u001b[1;32mc:\\Users\\BIKASH\\AppData\\Local\\Programs\\Python\\Python311\\Lib\\site-packages\\seaborn\\axisgrid.py:1266\u001b[0m, in \u001b[0;36mPairGrid.__init__\u001b[1;34m(self, data, hue, vars, x_vars, y_vars, hue_order, palette, hue_kws, corner, diag_sharey, height, aspect, layout_pad, despine, dropna)\u001b[0m\n\u001b[0;32m   1263\u001b[0m \u001b[39mself\u001b[39m\u001b[39m.\u001b[39msquare_grid \u001b[39m=\u001b[39m \u001b[39mself\u001b[39m\u001b[39m.\u001b[39mx_vars \u001b[39m==\u001b[39m \u001b[39mself\u001b[39m\u001b[39m.\u001b[39my_vars\n\u001b[0;32m   1265\u001b[0m \u001b[39mif\u001b[39;00m \u001b[39mnot\u001b[39;00m x_vars:\n\u001b[1;32m-> 1266\u001b[0m     \u001b[39mraise\u001b[39;00m \u001b[39mValueError\u001b[39;00m(\u001b[39m\"\u001b[39m\u001b[39mNo variables found for grid columns.\u001b[39m\u001b[39m\"\u001b[39m)\n\u001b[0;32m   1267\u001b[0m \u001b[39mif\u001b[39;00m \u001b[39mnot\u001b[39;00m y_vars:\n\u001b[0;32m   1268\u001b[0m     \u001b[39mraise\u001b[39;00m \u001b[39mValueError\u001b[39;00m(\u001b[39m\"\u001b[39m\u001b[39mNo variables found for grid rows.\u001b[39m\u001b[39m\"\u001b[39m)\n",
      "\u001b[1;31mValueError\u001b[0m: No variables found for grid columns."
     ]
    },
    {
     "data": {
      "text/plain": [
       "<Figure size 1600x900 with 0 Axes>"
      ]
     },
     "metadata": {},
     "output_type": "display_data"
    }
   ],
   "source": [
    "# c. Plot Pairplot on df_groupby dataset.\n",
    "df_groupby = pd.DataFrame(df_groupby)\n",
    "plt.figure(figsize=(16,9))\n",
    "sns.set()\n",
    "sns.pairplot(df_groupby)\n"
   ]
  },
  {
   "cell_type": "code",
   "execution_count": 453,
   "metadata": {},
   "outputs": [
    {
     "data": {
      "image/png": "[encoded data removed]",
      "text/plain": [
       "<Figure size 1600x900 with 1 Axes>"
      ]
     },
     "metadata": {},
     "output_type": "display_data"
    }
   ],
   "source": [
    "# d. Plot a bar plot of 'continent' column with 'total_cases' .\n",
    "sns.set()\n",
    "plt.figure(figsize=(16,9))\n",
    "sns.barplot(x='continent',y='total_cases',data=df)\n",
    "plt.xlabel('Cotinent')\n",
    "plt.ylabel('Total Cases')\n",
    "plt.title('Total Cases on Different Continent')\n",
    "plt.show()"
   ]
  },
  {
   "attachments": {},
   "cell_type": "markdown",
   "metadata": {},
   "source": [
    "10.Save the df_groupby dataframe in your local drive using\n",
    "pandas.to_csv\n",
    "function ."
   ]
  },
  {
   "cell_type": "code",
   "execution_count": null,
   "metadata": {},
   "outputs": [],
   "source": [
    "df_groupby.to_csv(\"C://Users//BIKASH//Desktop/Data2.csv\",index=False)\n"
   ]
  }
 ],
 "metadata": {
  "kernelspec": {
   "display_name": "Python 3",
   "language": "python",
   "name": "python3"
  },
  "language_info": {
   "codemirror_mode": {
    "name": "ipython",
    "version": 3
   },
   "file_extension": ".py",
   "mimetype": "text/x-python",
   "name": "python",
   "nbconvert_exporter": "python",
   "pygments_lexer": "ipython3",
   "version": "3.11.1"
  },
  "orig_nbformat": 4,
  "vscode": {
   "interpreter": {
    "hash": "a135a2979dcc31b13684e0092fc272a0229e357331cfbb7d4f1db7898b97e5e4"
   }
  }
 },
 "nbformat": 4,
 "nbformat_minor": 2
}
