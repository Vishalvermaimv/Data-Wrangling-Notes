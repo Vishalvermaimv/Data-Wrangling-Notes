{
 "cells": [
  {
   "cell_type": "code",
   "execution_count": 5,
   "metadata": {},
   "outputs": [
    {
     "name": "stdout",
     "output_type": "stream",
     "text": [
      "[0. 0. 0. 0. 0. 1. 0. 0. 0. 0.]\n"
     ]
    }
   ],
   "source": [
    "#PROBLEM: 1\n",
    "# CREATE A NULL VECTOR OF SIZE 10 BUT THE FIFTH VALUE WHICH IS 1:\n",
    "\n",
    "import numpy as np\n",
    "x = np.zeros(10)\n",
    "x[5] = 1\n",
    "print(x)"
   ]
  },
  {
   "cell_type": "code",
   "execution_count": 6,
   "metadata": {},
   "outputs": [
    {
     "name": "stdout",
     "output_type": "stream",
     "text": [
      "[10 11 12 13 14 15 16 17 18 19 20 21 22 23 24 25 26 27 28 29 30 31 32 33\n",
      " 34 35 36 37 38 39 40 41 42 43 44 45 46 47 48 49]\n"
     ]
    }
   ],
   "source": [
    "# PROBLEM: 2\n",
    "# CREATE A VECTOR WITH VALUES RANGING FROM 10 TO 49:\n",
    "import numpy as np\n",
    "\n",
    "v = np.arange(10,50)\n",
    "print(v)"
   ]
  },
  {
   "cell_type": "code",
   "execution_count": 9,
   "metadata": {},
   "outputs": [
    {
     "name": "stdout",
     "output_type": "stream",
     "text": [
      "[[0 1 2]\n",
      " [3 4 5]\n",
      " [6 7 8]]\n"
     ]
    }
   ],
   "source": [
    "# PROBLEM: 3\n",
    "# CREATE A 3*3 MATRIX WITH VALUES RANGING FROM 0 TO 8:\n",
    "import numpy as np\n",
    "x = np.arange(0,9).reshape(3,3)\n",
    "print(x)"
   ]
  },
  {
   "cell_type": "code",
   "execution_count": 8,
   "metadata": {},
   "outputs": [
    {
     "name": "stdout",
     "output_type": "stream",
     "text": [
      "Original array:  [1 2 0 0 4 0]\n",
      "Non-Zero Element Indices is: [0 1 4]\n"
     ]
    }
   ],
   "source": [
    "# PROBLEM: 4\n",
    "# FIND INDICES OF NON-ZERO ELEMENTS FROM [1,2,0,0,4,0]\n",
    "import numpy as np\n",
    "nums = np.array([1,2,0,0,4,0])\n",
    "print(\"Original array: \", nums)\n",
    "result = np.where(nums !=0)[0]\n",
    "print(\"Non-Zero Element Indices is:\",result)"
   ]
  },
  {
   "cell_type": "code",
   "execution_count": 7,
   "metadata": {},
   "outputs": [
    {
     "name": "stdout",
     "output_type": "stream",
     "text": [
      "[[0.34337647 0.3607224  0.35894823 0.54423648 0.38681176 0.98539888\n",
      "  0.06779078 0.0849847  0.08811819 0.09127123]\n",
      " [0.45990044 0.9769139  0.82538021 0.09874556 0.91165346 0.01852527\n",
      "  0.17914982 0.09748584 0.41609161 0.62694875]\n",
      " [0.8996507  0.24857293 0.49173525 0.58658849 0.00535418 0.09017269\n",
      "  0.5596649  0.02449765 0.20882989 0.99126266]\n",
      " [0.26966156 0.90191704 0.794711   0.34592233 0.29712779 0.20123963\n",
      "  0.27028345 0.72028055 0.75297888 0.42841713]\n",
      " [0.52680926 0.42308629 0.45283076 0.95202228 0.49222138 0.38276834\n",
      "  0.39960982 0.99728707 0.82226142 0.3714417 ]\n",
      " [0.14623889 0.01770601 0.16062204 0.38611901 0.44846621 0.16536065\n",
      "  0.78091599 0.02832704 0.73060987 0.65413011]\n",
      " [0.86557826 0.62919836 0.92158377 0.56713463 0.2391705  0.42265123\n",
      "  0.45296211 0.95930772 0.1912527  0.06211175]\n",
      " [0.36451569 0.51282533 0.47882984 0.664098   0.75131871 0.57848023\n",
      "  0.16410261 0.85102018 0.15553901 0.9176897 ]\n",
      " [0.83000126 0.95100401 0.20652705 0.09451078 0.89178614 0.27247919\n",
      "  0.86085205 0.86818337 0.66703567 0.46274995]\n",
      " [0.69324867 0.20350391 0.20826748 0.32840841 0.23396668 0.01341414\n",
      "  0.59726095 0.68197998 0.21083905 0.78507824]]\n",
      "Minimum value is:  0.005354175973028452\n",
      "Maximum value is:  0.9972870741236491\n"
     ]
    }
   ],
   "source": [
    "# PROBLEM: 5\n",
    "# CREATE A 10*10 ARRAY WITH RANDOM VALUES AND FIND THE MINIMUM AND MAXIMUM VALUES: \n",
    "import numpy as np\n",
    "x = np.random.random((10,10))\n",
    "print(x)\n",
    "xmin,xmax = x.min(), x.max()\n",
    "print(\"Minimum value is: \",xmin)\n",
    "print(\"Maximum value is: \",xmax)\n"
   ]
  },
  {
   "cell_type": "code",
   "execution_count": 6,
   "metadata": {},
   "outputs": [
    {
     "name": "stdout",
     "output_type": "stream",
     "text": [
      "[0.23142824 0.03903126 0.30556435 0.55427756 0.18568637 0.69486929\n",
      " 0.57732552 0.78492701 0.75754084 0.91162705 0.42538482 0.21765942\n",
      " 0.78315387 0.6231596  0.18375165 0.860548   0.55442966 0.29792994\n",
      " 0.98201133 0.66488742 0.48003365 0.87519277 0.47362597 0.16030443\n",
      " 0.77916477 0.61818494 0.00526163 0.47967877 0.61799805 0.74987335]\n",
      "Mean Value is:  0.5291503844126991\n"
     ]
    }
   ],
   "source": [
    "# PROBLEM: 6\n",
    "# CREATE A RANDOM VECTOR OF SIZE 30 AND FIND THE MEAN VALUE:\n",
    "import numpy as np\n",
    "z = np.random.random((30))\n",
    "print(z)\n",
    "m = z.mean()\n",
    "print(\"Mean Value is: \",m) "
   ]
  }
 ],
 "metadata": {
  "kernelspec": {
   "display_name": "Python 3",
   "language": "python",
   "name": "python3"
  },
  "language_info": {
   "codemirror_mode": {
    "name": "ipython",
    "version": 3
   },
   "file_extension": ".py",
   "mimetype": "text/x-python",
   "name": "python",
   "nbconvert_exporter": "python",
   "pygments_lexer": "ipython3",
   "version": "3.10.7"
  },
  "orig_nbformat": 4,
  "vscode": {
   "interpreter": {
    "hash": "aef80b6ac783f7042fbfc7f7228212085612e82dbe6ac48db8c348140cb084f4"
   }
  }
 },
 "nbformat": 4,
 "nbformat_minor": 2
}
