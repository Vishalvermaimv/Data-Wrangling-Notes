{
 "cells": [
  {
   "cell_type": "code",
   "execution_count": 5,
   "metadata": {},
   "outputs": [
    {
     "name": "stdout",
     "output_type": "stream",
     "text": [
      "[0. 0. 0. 0. 0. 1. 0. 0. 0. 0.]\n"
     ]
    }
   ],
   "source": [
    "#PROBLEM: 1\n",
    "# CREATE A NULL VECTOR OF SIZE 10 BUT THE FIFTH VALUE WHICH IS 1:\n",
    "\n",
    "import numpy as np\n",
    "x = np.zeros(10)\n",
    "x[5] = 1\n",
    "print(x)"
   ]
  },
  {
   "cell_type": "code",
   "execution_count": 6,
   "metadata": {},
   "outputs": [
    {
     "name": "stdout",
     "output_type": "stream",
     "text": [
      "[10 11 12 13 14 15 16 17 18 19 20 21 22 23 24 25 26 27 28 29 30 31 32 33\n",
      " 34 35 36 37 38 39 40 41 42 43 44 45 46 47 48 49]\n"
     ]
    }
   ],
   "source": [
    "# PROBLEM: 2\n",
    "# CREATE A VECTOR WITH VALUES RANGING FROM 10 TO 49:\n",
    "import numpy as np\n",
    "\n",
    "v = np.arange(10,50)\n",
    "print(v)"
   ]
  },
  {
   "cell_type": "code",
   "execution_count": 12,
   "metadata": {},
   "outputs": [
    {
     "name": "stdout",
     "output_type": "stream",
     "text": [
      "[[0 1 2]\n",
      " [3 4 5]\n",
      " [6 7 8]]\n"
     ]
    }
   ],
   "source": [
    "# PROBLEM: 3\n",
    "# CREATE A 3*3 MATRIX WITH VALUES RANGING FROM 0 TO 8:\n",
    "import numpy as np\n",
    "x = np.arange(0,9).reshape(3,3)\n",
    "print(x)"
   ]
  },
  {
   "cell_type": "code",
   "execution_count": 15,
   "metadata": {},
   "outputs": [
    {
     "name": "stdout",
     "output_type": "stream",
     "text": [
      "Original array:  [1 2 0 0 4 0]\n",
      "Non-Zero Element Indices is: [0 1 4]\n"
     ]
    }
   ],
   "source": [
    "# PROBLEM: 4\n",
    "# FIND INDICES OF NON-ZERO ELEMENTS FROM [1,2,0,0,4,0]\n",
    "nums = np.array([1,2,0,0,4,0])\n",
    "print(\"Original array: \", nums)\n",
    "result = np.where(nums !=0)[0]\n",
    "print(\"Non-Zero Element Indices is:\",result)"
   ]
  },
  {
   "cell_type": "code",
   "execution_count": 17,
   "metadata": {},
   "outputs": [
    {
     "name": "stdout",
     "output_type": "stream",
     "text": [
      "[[0.16326366 0.6740628  0.7194628  0.45597061 0.34353089 0.39730039\n",
      "  0.60904626 0.20992488 0.80019431 0.43244933]\n",
      " [0.95775203 0.67517557 0.06110578 0.94062269 0.04467643 0.65974668\n",
      "  0.19802204 0.67807906 0.01211789 0.4373964 ]\n",
      " [0.88190491 0.6582221  0.72348819 0.41770356 0.59617503 0.68080275\n",
      "  0.0222732  0.22906009 0.32264041 0.67064298]\n",
      " [0.15669917 0.375726   0.03845326 0.50914955 0.92835523 0.77912208\n",
      "  0.39628944 0.30284197 0.13080124 0.79455997]\n",
      " [0.8554774  0.88937273 0.05169524 0.53430775 0.57137115 0.80472156\n",
      "  0.96502678 0.30990037 0.83237675 0.95154058]\n",
      " [0.03969738 0.17644697 0.93561299 0.26714274 0.65298435 0.77196829\n",
      "  0.6007908  0.81029859 0.30955008 0.87695608]\n",
      " [0.55818903 0.73544934 0.47837835 0.79777005 0.74155582 0.80252093\n",
      "  0.80666184 0.35233832 0.66330041 0.66948687]\n",
      " [0.51988951 0.59235038 0.82292895 0.06998683 0.31282626 0.62496446\n",
      "  0.98449489 0.73764603 0.80458901 0.93495048]\n",
      " [0.9803207  0.01666958 0.22064271 0.14413554 0.89188975 0.56899897\n",
      "  0.24824275 0.12516676 0.37191603 0.58795135]\n",
      " [0.35827689 0.85973311 0.89421633 0.50756024 0.29406209 0.7275506\n",
      "  0.09849128 0.1059547  0.90122705 0.28711393]]\n",
      "Minimum value is:  0.012117892788066187\n",
      "Maximum value is:  0.9844948882638723\n"
     ]
    }
   ],
   "source": [
    "# PROBLEM: 5\n",
    "# CREATE A 10*10 ARRAY WITH RANDOM VALUES AND FIND THE MINIMUM AND MAXIMUM VALUES: \n",
    "\n",
    "x = np.random.random((10,10))\n",
    "print(x)\n",
    "xmin,xmax = x.min(), x.max()\n",
    "print(\"Minimum value is: \",xmin)\n",
    "print(\"Maximum value is: \",xmax)\n"
   ]
  },
  {
   "cell_type": "code",
   "execution_count": 19,
   "metadata": {},
   "outputs": [
    {
     "name": "stdout",
     "output_type": "stream",
     "text": [
      "[0.20121309 0.81566721 0.76729347 0.29090236 0.47754438 0.12087393\n",
      " 0.32642946 0.84807365 0.76785124 0.80119628 0.90336458 0.34548238\n",
      " 0.41214308 0.46778874 0.58873364 0.65754803 0.7240226  0.50407017\n",
      " 0.90262413 0.89200678 0.37946844 0.42713345 0.89653219 0.02592908\n",
      " 0.52201912 0.9766724  0.58450069 0.22948665 0.89618983 0.82398901]\n",
      "Mean Value is:  0.5858916687831894\n"
     ]
    }
   ],
   "source": [
    "# PROBLEM: 6\n",
    "# CREATE A RANDOM VECTOR OF SIZE 30 AND FIND THE MEAN VALUE:\n",
    "\n",
    "z = np.random.random((30))\n",
    "print(z)\n",
    "m = z.mean()\n",
    "print(\"Mean Value is: \",m) "
   ]
  }
 ],
 "metadata": {
  "kernelspec": {
   "display_name": "Python 3",
   "language": "python",
   "name": "python3"
  },
  "language_info": {
   "codemirror_mode": {
    "name": "ipython",
    "version": 3
   },
   "file_extension": ".py",
   "mimetype": "text/x-python",
   "name": "python",
   "nbconvert_exporter": "python",
   "pygments_lexer": "ipython3",
   "version": "3.10.7"
  },
  "orig_nbformat": 4,
  "vscode": {
   "interpreter": {
    "hash": "aef80b6ac783f7042fbfc7f7228212085612e82dbe6ac48db8c348140cb084f4"
   }
  }
 },
 "nbformat": 4,
 "nbformat_minor": 2
}
